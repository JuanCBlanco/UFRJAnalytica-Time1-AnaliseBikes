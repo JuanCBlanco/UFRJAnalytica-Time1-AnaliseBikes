{
 "cells": [
  {
   "cell_type": "code",
   "execution_count": 1,
   "metadata": {},
   "outputs": [],
   "source": [
    "import pandas as pd\n",
    "import plotnine as p9"
   ]
  },
  {
   "cell_type": "code",
   "execution_count": 2,
   "metadata": {},
   "outputs": [
    {
     "data": {
      "text/html": [
       "<div>\n",
       "<style scoped>\n",
       "    .dataframe tbody tr th:only-of-type {\n",
       "        vertical-align: middle;\n",
       "    }\n",
       "\n",
       "    .dataframe tbody tr th {\n",
       "        vertical-align: top;\n",
       "    }\n",
       "\n",
       "    .dataframe thead th {\n",
       "        text-align: right;\n",
       "    }\n",
       "</style>\n",
       "<table border=\"1\" class=\"dataframe\">\n",
       "  <thead>\n",
       "    <tr style=\"text-align: right;\">\n",
       "      <th></th>\n",
       "      <th>tripduration</th>\n",
       "      <th>starttime</th>\n",
       "      <th>stoptime</th>\n",
       "      <th>start station id</th>\n",
       "      <th>start station name</th>\n",
       "      <th>start station latitude</th>\n",
       "      <th>start station longitude</th>\n",
       "      <th>end station id</th>\n",
       "      <th>end station name</th>\n",
       "      <th>end station latitude</th>\n",
       "      <th>end station longitude</th>\n",
       "      <th>bikeid</th>\n",
       "      <th>usertype</th>\n",
       "      <th>birth year</th>\n",
       "      <th>gender</th>\n",
       "    </tr>\n",
       "  </thead>\n",
       "  <tbody>\n",
       "    <tr>\n",
       "      <th>0</th>\n",
       "      <td>882</td>\n",
       "      <td>2018-11-25 18:21:38.7740</td>\n",
       "      <td>2018-11-25 18:36:21.4720</td>\n",
       "      <td>423.0</td>\n",
       "      <td>W 54 St &amp; 9 Ave</td>\n",
       "      <td>40.765849</td>\n",
       "      <td>-73.986905</td>\n",
       "      <td>476.0</td>\n",
       "      <td>E 31 St &amp; 3 Ave</td>\n",
       "      <td>40.743943</td>\n",
       "      <td>-73.979661</td>\n",
       "      <td>20049</td>\n",
       "      <td>Customer</td>\n",
       "      <td>1969</td>\n",
       "      <td>0</td>\n",
       "    </tr>\n",
       "    <tr>\n",
       "      <th>1</th>\n",
       "      <td>669</td>\n",
       "      <td>2018-08-13 18:25:50.5440</td>\n",
       "      <td>2018-08-13 18:36:59.9680</td>\n",
       "      <td>3467.0</td>\n",
       "      <td>W Broadway &amp; Spring Street</td>\n",
       "      <td>40.724947</td>\n",
       "      <td>-74.001659</td>\n",
       "      <td>327.0</td>\n",
       "      <td>Vesey Pl &amp; River Terrace</td>\n",
       "      <td>40.715338</td>\n",
       "      <td>-74.016584</td>\n",
       "      <td>33847</td>\n",
       "      <td>Subscriber</td>\n",
       "      <td>1987</td>\n",
       "      <td>1</td>\n",
       "    </tr>\n",
       "    <tr>\n",
       "      <th>2</th>\n",
       "      <td>521</td>\n",
       "      <td>2018-12-18 20:12:15.0620</td>\n",
       "      <td>2018-12-18 20:20:57.0170</td>\n",
       "      <td>411.0</td>\n",
       "      <td>E 6 St &amp; Avenue D</td>\n",
       "      <td>40.722281</td>\n",
       "      <td>-73.976687</td>\n",
       "      <td>504.0</td>\n",
       "      <td>1 Ave &amp; E 16 St</td>\n",
       "      <td>40.732219</td>\n",
       "      <td>-73.981656</td>\n",
       "      <td>30284</td>\n",
       "      <td>Subscriber</td>\n",
       "      <td>1971</td>\n",
       "      <td>1</td>\n",
       "    </tr>\n",
       "    <tr>\n",
       "      <th>3</th>\n",
       "      <td>270</td>\n",
       "      <td>2018-05-18 14:23:52.1050</td>\n",
       "      <td>2018-05-18 14:28:22.4910</td>\n",
       "      <td>437.0</td>\n",
       "      <td>Macon St &amp; Nostrand Ave</td>\n",
       "      <td>40.680983</td>\n",
       "      <td>-73.950048</td>\n",
       "      <td>3047.0</td>\n",
       "      <td>Halsey St &amp; Tompkins Ave</td>\n",
       "      <td>40.682369</td>\n",
       "      <td>-73.944118</td>\n",
       "      <td>31542</td>\n",
       "      <td>Subscriber</td>\n",
       "      <td>1964</td>\n",
       "      <td>1</td>\n",
       "    </tr>\n",
       "    <tr>\n",
       "      <th>4</th>\n",
       "      <td>441</td>\n",
       "      <td>2018-08-14 19:00:15.8670</td>\n",
       "      <td>2018-08-14 19:07:37.0520</td>\n",
       "      <td>519.0</td>\n",
       "      <td>Pershing Square North</td>\n",
       "      <td>40.751873</td>\n",
       "      <td>-73.977706</td>\n",
       "      <td>498.0</td>\n",
       "      <td>Broadway &amp; W 32 St</td>\n",
       "      <td>40.748549</td>\n",
       "      <td>-73.988084</td>\n",
       "      <td>18363</td>\n",
       "      <td>Subscriber</td>\n",
       "      <td>1979</td>\n",
       "      <td>1</td>\n",
       "    </tr>\n",
       "  </tbody>\n",
       "</table>\n",
       "</div>"
      ],
      "text/plain": [
       "   tripduration                 starttime                  stoptime  \\\n",
       "0           882  2018-11-25 18:21:38.7740  2018-11-25 18:36:21.4720   \n",
       "1           669  2018-08-13 18:25:50.5440  2018-08-13 18:36:59.9680   \n",
       "2           521  2018-12-18 20:12:15.0620  2018-12-18 20:20:57.0170   \n",
       "3           270  2018-05-18 14:23:52.1050  2018-05-18 14:28:22.4910   \n",
       "4           441  2018-08-14 19:00:15.8670  2018-08-14 19:07:37.0520   \n",
       "\n",
       "   start station id          start station name  start station latitude  \\\n",
       "0             423.0             W 54 St & 9 Ave               40.765849   \n",
       "1            3467.0  W Broadway & Spring Street               40.724947   \n",
       "2             411.0           E 6 St & Avenue D               40.722281   \n",
       "3             437.0     Macon St & Nostrand Ave               40.680983   \n",
       "4             519.0       Pershing Square North               40.751873   \n",
       "\n",
       "   start station longitude  end station id          end station name  \\\n",
       "0               -73.986905           476.0           E 31 St & 3 Ave   \n",
       "1               -74.001659           327.0  Vesey Pl & River Terrace   \n",
       "2               -73.976687           504.0           1 Ave & E 16 St   \n",
       "3               -73.950048          3047.0  Halsey St & Tompkins Ave   \n",
       "4               -73.977706           498.0        Broadway & W 32 St   \n",
       "\n",
       "   end station latitude  end station longitude  bikeid    usertype  \\\n",
       "0             40.743943             -73.979661   20049    Customer   \n",
       "1             40.715338             -74.016584   33847  Subscriber   \n",
       "2             40.732219             -73.981656   30284  Subscriber   \n",
       "3             40.682369             -73.944118   31542  Subscriber   \n",
       "4             40.748549             -73.988084   18363  Subscriber   \n",
       "\n",
       "   birth year  gender  \n",
       "0        1969       0  \n",
       "1        1987       1  \n",
       "2        1971       1  \n",
       "3        1964       1  \n",
       "4        1979       1  "
      ]
     },
     "execution_count": 2,
     "metadata": {},
     "output_type": "execute_result"
    }
   ],
   "source": [
    "df = pd.read_parquet(\"../Dados/BikeData-Raw.parquet\")\n",
    "df.head()"
   ]
  },
  {
   "cell_type": "code",
   "execution_count": 3,
   "metadata": {},
   "outputs": [
    {
     "name": "stdout",
     "output_type": "stream",
     "text": [
      "<class 'pandas.core.frame.DataFrame'>\n",
      "RangeIndex: 1000000 entries, 0 to 999999\n",
      "Data columns (total 15 columns):\n",
      " #   Column                   Non-Null Count    Dtype  \n",
      "---  ------                   --------------    -----  \n",
      " 0   tripduration             1000000 non-null  int64  \n",
      " 1   starttime                1000000 non-null  object \n",
      " 2   stoptime                 1000000 non-null  object \n",
      " 3   start station id         999927 non-null   float64\n",
      " 4   start station name       999927 non-null   object \n",
      " 5   start station latitude   1000000 non-null  float64\n",
      " 6   start station longitude  1000000 non-null  float64\n",
      " 7   end station id           999927 non-null   float64\n",
      " 8   end station name         999927 non-null   object \n",
      " 9   end station latitude     1000000 non-null  float64\n",
      " 10  end station longitude    1000000 non-null  float64\n",
      " 11  bikeid                   1000000 non-null  int64  \n",
      " 12  usertype                 1000000 non-null  object \n",
      " 13  birth year               1000000 non-null  int64  \n",
      " 14  gender                   1000000 non-null  int64  \n",
      "dtypes: float64(6), int64(4), object(5)\n",
      "memory usage: 114.4+ MB\n"
     ]
    }
   ],
   "source": [
    "df.info()"
   ]
  },
  {
   "cell_type": "code",
   "execution_count": 4,
   "metadata": {},
   "outputs": [
    {
     "data": {
      "text/plain": [
       "tripduration                0\n",
       "starttime                   0\n",
       "stoptime                    0\n",
       "start station id           73\n",
       "start station name         73\n",
       "start station latitude      0\n",
       "start station longitude     0\n",
       "end station id             73\n",
       "end station name           73\n",
       "end station latitude        0\n",
       "end station longitude       0\n",
       "bikeid                      0\n",
       "usertype                    0\n",
       "birth year                  0\n",
       "gender                      0\n",
       "dtype: int64"
      ]
     },
     "execution_count": 4,
     "metadata": {},
     "output_type": "execute_result"
    }
   ],
   "source": [
    "df.isna().sum()"
   ]
  },
  {
   "cell_type": "code",
   "execution_count": 5,
   "metadata": {},
   "outputs": [],
   "source": [
    "p = (\n",
    "    p9.ggplot(data = (\n",
    "        df\n",
    "        .select_dtypes('number')\n",
    "        .melt()\n",
    "    )) +\n",
    "    p9.aes(x = 'variable', y = 'value') +\n",
    "    p9.geom_boxplot()\n",
    ")"
   ]
  },
  {
   "cell_type": "code",
   "execution_count": 6,
   "metadata": {},
   "outputs": [
    {
     "name": "stderr",
     "output_type": "stream",
     "text": [
      "/home/juanblanco/anaconda3/envs/Py-env/lib/python3.9/site-packages/plotnine/layer.py:333: PlotnineWarning: stat_boxplot : Removed 146 rows containing non-finite values.\n"
     ]
    }
   ],
   "source": [
    "p"
   ]
  }
 ],
 "metadata": {
  "kernelspec": {
   "display_name": "base",
   "language": "python",
   "name": "python3"
  },
  "language_info": {
   "codemirror_mode": {
    "name": "ipython",
    "version": 3
   },
   "file_extension": ".py",
   "mimetype": "text/x-python",
   "name": "python",
   "nbconvert_exporter": "python",
   "pygments_lexer": "ipython3",
   "version": "3.9.13"
  },
  "orig_nbformat": 4
 },
 "nbformat": 4,
 "nbformat_minor": 2
}
