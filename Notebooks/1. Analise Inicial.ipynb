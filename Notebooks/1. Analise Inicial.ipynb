{
 "cells": [
  {
   "cell_type": "markdown",
   "id": "221c6a7b",
   "metadata": {},
   "source": [
    "# Introdução"
   ]
  },
  {
   "cell_type": "markdown",
   "id": "a864a647",
   "metadata": {},
   "source": [
    "**Nesse primeiro notebook, nosso propósito é fazer uma análise inicial dos dados do dataset de bicicletas compartilhadas de nova iorque e entender suas peculiaridades nos dados.**"
   ]
  },
  {
   "cell_type": "markdown",
   "id": "eaeaf46d",
   "metadata": {},
   "source": [
    "Dados Completos da Fonte: https://s3.amazonaws.com/tripdata/index.html\n",
    "\n",
    "Acumulamos os dados no arquivo \"0. Download Dados\""
   ]
  },
  {
   "cell_type": "markdown",
   "id": "5e9b0165",
   "metadata": {},
   "source": [
    "## Próximos Passos"
   ]
  },
  {
   "cell_type": "markdown",
   "id": "2b79cfc9",
   "metadata": {},
   "source": [
    "**Análise de Dados:**\n",
    "* [x] Análise básica dos dados\n",
    "* [x] Limpeza dos dados\n",
    "* [ ] Visualização de Dados Geográficos\n",
    "    * [ ] Visualização dos pontos de saída e chegada\n",
    "* [ ] Calcular distância absoluta de cada estação a outra.\n",
    "* [ ] Analisar as estações mais populares\n",
    "    * [ ] Separado por dia de semana / fim de semana\n",
    "* [ ] Analisar os horários de pico e distribuição dos horários geral e por estação\n",
    "* [ ] Analisar distribuição por dia, mês, ano da semana geral e por estação\n",
    "* [ ] Analise de sazonalidade\n",
    "* [ ] Relação do tempo da viagem com a idade e gênero da pessoa\n",
    "* [ ] Distribuição por estação de idade e gênero\n",
    "* [ ] Análise de corridas em grupo - mesmo inicio e fim? - pensar como avaliar isso\n",
    "\n",
    "**Modelos:**\n",
    "* [ ] Predizer para uma estação, em um dia da semana e horário, quantas corridas terá\n",
    "\n",
    "**Tempo Real:**\n",
    "* [ ] Obter dados em tempo real pela API\n",
    "* [ ] Aplicar o modelo de predição nos dados reais, predizer para próximas horas\n",
    "* [ ] Criar um dashboard em tempo real"
   ]
  },
  {
   "cell_type": "markdown",
   "id": "775df836",
   "metadata": {},
   "source": [
    "# Importações"
   ]
  },
  {
   "cell_type": "code",
   "execution_count": null,
   "id": "cc59de70",
   "metadata": {},
   "outputs": [],
   "source": [
    "import pandas as pd\n",
    "import plotly.express as px\n",
    "import numpy as np"
   ]
  },
  {
   "cell_type": "code",
   "execution_count": null,
   "id": "2b68de2a",
   "metadata": {},
   "outputs": [],
   "source": [
    "from haversine import haversine"
   ]
  },
  {
   "cell_type": "code",
   "execution_count": null,
   "id": "ae001007",
   "metadata": {},
   "outputs": [],
   "source": [
    "px.set_mapbox_access_token(\"pk.eyJ1Ijoicm1jbnJpYmVpcm8iLCJhIjoiY2s4MHh5b3ZiMGtsbTNkcGFuazR1dWc4diJ9._aDTNPlmw3Nt6QSMm3YgmQ\")"
   ]
  },
  {
   "cell_type": "markdown",
   "id": "b9875743",
   "metadata": {},
   "source": [
    "**Importante**: Devido a restrição de espaço no Github, baixe os dados do Drive e coloque localmente na pasta 'Dados'.\n",
    "https://drive.google.com/drive/folders/144_0BrEXS3Z1VslYxr1rP2Wr6bSm4tDf?usp=sharing"
   ]
  },
  {
   "cell_type": "code",
   "execution_count": null,
   "id": "1387b4d3",
   "metadata": {},
   "outputs": [],
   "source": [
    "df_trips = pd.read_parquet(\"../Dados/citibike2019_sample.parquet\")"
   ]
  },
  {
   "cell_type": "markdown",
   "id": "2183ab19",
   "metadata": {},
   "source": [
    "# Análise Inicial"
   ]
  },
  {
   "cell_type": "markdown",
   "id": "52d39f22",
   "metadata": {},
   "source": [
    "**Entendendo os tipos de dados e suas distribuições e comportamentos.**"
   ]
  },
  {
   "cell_type": "code",
   "execution_count": null,
   "id": "1e7f5df8",
   "metadata": {},
   "outputs": [],
   "source": [
    "df_trips.info()"
   ]
  },
  {
   "cell_type": "markdown",
   "id": "6bd92553",
   "metadata": {},
   "source": [
    "**Verificando colunas com valores nulos.**\n",
    "\n",
    "Precisaremos dropar essas linhas porque os IDs são relevantes na nossa análise."
   ]
  },
  {
   "cell_type": "code",
   "execution_count": null,
   "id": "203a11bc",
   "metadata": {},
   "outputs": [],
   "source": [
    "df_trips.isna().any()"
   ]
  },
  {
   "cell_type": "markdown",
   "id": "061d886c",
   "metadata": {},
   "source": [
    "**Mapeamento de Colunas para padronizar os nomes.**"
   ]
  },
  {
   "cell_type": "code",
   "execution_count": null,
   "id": "7ac606df",
   "metadata": {},
   "outputs": [],
   "source": [
    "df_trips = df_trips.rename(\n",
    "    columns={\n",
    "        'starttime': \"Start Time\", \n",
    "        'stoptime': \"Stop Time\", \n",
    "        'start station id': \"Start Station ID\", \n",
    "        'start station name': \"Start Station Name\",\n",
    "        'start station latitude': \"Start Station Latitude\", \n",
    "        'start station longitude': \"Start Station Longitude\", \n",
    "        'end station id': \"End Station ID\",\n",
    "        'end station name': \"End Station Name\", \n",
    "        'end station latitude': \"End Station Latitude\", \n",
    "        'end station longitude': \"End Station Longitude\",\n",
    "        'bikeid': \"Bike ID\", \n",
    "        'usertype': \"User Type\", \n",
    "        'birth year': \"Birth Year\", \n",
    "        'gender': \"Gender\",\n",
    "        'tripduration': \"Trip Duration\"\n",
    "    }\n",
    ")"
   ]
  },
  {
   "cell_type": "code",
   "execution_count": null,
   "id": "9f3d4cbb",
   "metadata": {},
   "outputs": [],
   "source": [
    "df_trips.columns"
   ]
  },
  {
   "cell_type": "code",
   "execution_count": null,
   "id": "81906a2e",
   "metadata": {},
   "outputs": [],
   "source": [
    "df_trips[\"Start Time\"] = pd.to_datetime(df_trips[\"Start Time\"])\n",
    "df_trips[\"Stop Time\"] = pd.to_datetime(df_trips[\"Stop Time\"])"
   ]
  },
  {
   "cell_type": "code",
   "execution_count": null,
   "id": "f912c734",
   "metadata": {},
   "outputs": [],
   "source": [
    "# Adicionando Coluna de Tempo Total em Minutos\n",
    "df_trips[\"Trip Duration Minutes\"] = df_trips[\"Trip Duration\"]/60.0"
   ]
  },
  {
   "cell_type": "code",
   "execution_count": null,
   "id": "aa2b6c67",
   "metadata": {},
   "outputs": [],
   "source": [
    "df_trips.describe()"
   ]
  },
  {
   "cell_type": "markdown",
   "id": "f04edf56",
   "metadata": {},
   "source": [
    "**Observações de Dados:**\n",
    "\n",
    "* Máximo de Trip duration muito alta\n",
    "* Longitude possui valores zerados, indicando trips não finalizadas. Provavelmente vamos dropar.\n",
    "* Birth Year mínimo de 1857 - precisamos ver a veracidade dessa coluna\n",
    "* Gender 0, 1, 2 - precisamos verificar os significados\n",
    "* Trip Duration Minutes com máximo muito alto\n",
    "* Dados nulos de ID e Name"
   ]
  },
  {
   "cell_type": "markdown",
   "id": "6407f7cb",
   "metadata": {},
   "source": [
    "## Tratando Dados Nulos"
   ]
  },
  {
   "cell_type": "code",
   "execution_count": null,
   "id": "e256d679",
   "metadata": {},
   "outputs": [],
   "source": [
    "df_trips = df_trips.dropna()"
   ]
  },
  {
   "cell_type": "code",
   "execution_count": null,
   "id": "21753b9a",
   "metadata": {},
   "outputs": [],
   "source": [
    "df_trips.info()"
   ]
  },
  {
   "cell_type": "code",
   "execution_count": null,
   "id": "d8a7dcd5",
   "metadata": {},
   "outputs": [],
   "source": [
    "df_trips.loc[:, \"Start Station ID\"] = df_trips.loc[:, \"Start Station ID\"].astype(int).values\n",
    "df_trips.loc[:, \"End Station ID\"] = df_trips.loc[:, \"End Station ID\"].astype(int).values"
   ]
  },
  {
   "cell_type": "code",
   "execution_count": null,
   "id": "66a0d26f",
   "metadata": {},
   "outputs": [],
   "source": [
    "df_trips.head()"
   ]
  },
  {
   "cell_type": "markdown",
   "id": "5eb7dd09",
   "metadata": {},
   "source": [
    "## Análise de Trip Duration - Semelhante a Trip_Duration_in_min"
   ]
  },
  {
   "cell_type": "code",
   "execution_count": null,
   "id": "f4147d66",
   "metadata": {},
   "outputs": [],
   "source": [
    "trip_durations = df_trips[\"Trip Duration Minutes\"]"
   ]
  },
  {
   "cell_type": "code",
   "execution_count": null,
   "id": "a835edef",
   "metadata": {},
   "outputs": [],
   "source": [
    "trip_durations[trip_durations < 100].plot.hist(bins=30)"
   ]
  },
  {
   "cell_type": "markdown",
   "id": "cfc03387",
   "metadata": {},
   "source": [
    "## Análise de Birth Year"
   ]
  },
  {
   "cell_type": "code",
   "execution_count": null,
   "id": "8ecb205d",
   "metadata": {},
   "outputs": [],
   "source": [
    "birth_years = df_trips[\"Birth Year\"]"
   ]
  },
  {
   "cell_type": "code",
   "execution_count": null,
   "id": "4ec02c69",
   "metadata": {},
   "outputs": [],
   "source": [
    "birth_years.plot.hist(bins=30)"
   ]
  },
  {
   "cell_type": "markdown",
   "id": "ee7ff178",
   "metadata": {},
   "source": [
    "Criação de Nova Coluna de Idade:"
   ]
  },
  {
   "cell_type": "code",
   "execution_count": null,
   "id": "b580e4d3",
   "metadata": {},
   "outputs": [],
   "source": [
    "data_captura = 2019\n",
    "df_trips[\"Age\"] = data_captura - df_trips[\"Birth Year\"]"
   ]
  },
  {
   "cell_type": "code",
   "execution_count": null,
   "id": "29f734f7",
   "metadata": {},
   "outputs": [],
   "source": [
    "df_trips[\"Age\"].plot.hist()"
   ]
  },
  {
   "cell_type": "code",
   "execution_count": null,
   "id": "31ce0672",
   "metadata": {},
   "outputs": [],
   "source": [
    "df_trips[\"Age\"].plot.box()"
   ]
  },
  {
   "cell_type": "markdown",
   "id": "c6eab468",
   "metadata": {},
   "source": [
    "## Unicidade de (latitude, longitude) para cada uma das Stops"
   ]
  },
  {
   "cell_type": "markdown",
   "id": "c15dfe92",
   "metadata": {},
   "source": [
    "Será que os dados de latitude e longitude das stops é consistente ou aparecem múltiplos (lat, long) para um mesmo stop?"
   ]
  },
  {
   "cell_type": "code",
   "execution_count": null,
   "id": "e620e51d",
   "metadata": {},
   "outputs": [],
   "source": [
    "# Obtendo as colunas relacionadas a start stops\n",
    "start_stations = df_trips[['Start Station ID', 'Start Station Latitude', 'Start Station Longitude', 'Start Station Name']]\n",
    "start_stations.columns = ['Station ID', 'Station Latitude', 'Station Longitude', 'Station Name']"
   ]
  },
  {
   "cell_type": "code",
   "execution_count": null,
   "id": "52cd2787",
   "metadata": {},
   "outputs": [],
   "source": [
    "# Obtendo as colunas relacionadas a end stops\n",
    "end_stations = df_trips[['End Station ID', 'End Station Latitude', 'End Station Longitude', 'End Station Name']]\n",
    "end_stations.columns = ['Station ID', 'Station Latitude', 'Station Longitude', 'Station Name']"
   ]
  },
  {
   "cell_type": "code",
   "execution_count": null,
   "id": "93b1cd2b",
   "metadata": {},
   "outputs": [],
   "source": [
    "# Uniao das stops, ja que ser de inicio ou fim nao importa\n",
    "stations = pd.concat([start_stations, end_stations], axis=0, ignore_index=True)"
   ]
  },
  {
   "cell_type": "code",
   "execution_count": null,
   "id": "23f1ce7a",
   "metadata": {},
   "outputs": [],
   "source": [
    "stations.head()"
   ]
  },
  {
   "cell_type": "code",
   "execution_count": null,
   "id": "df15b347",
   "metadata": {},
   "outputs": [],
   "source": [
    "# Verificando se todos os grupos de Station ID possuem apenas 1 linha após dropar duplicatas\n",
    "(stations.drop_duplicates().groupby(\"Station ID\").size() == 1).all()"
   ]
  },
  {
   "cell_type": "code",
   "execution_count": null,
   "id": "c7776af3",
   "metadata": {},
   "outputs": [],
   "source": [
    "stations.drop_duplicates().groupby(\"Station ID\").size().sort_values()"
   ]
  },
  {
   "cell_type": "markdown",
   "id": "c671949c",
   "metadata": {},
   "source": [
    "### Definindo um Dataframe mapeador das stations"
   ]
  },
  {
   "cell_type": "markdown",
   "id": "e65b2a5c",
   "metadata": {},
   "source": [
    "Pode ser útil mais tarde termos um mapeador da station id para a lat, long"
   ]
  },
  {
   "cell_type": "code",
   "execution_count": null,
   "id": "e030ca5c",
   "metadata": {},
   "outputs": [],
   "source": [
    "df_stations = stations.drop_duplicates().set_index('Station ID')"
   ]
  },
  {
   "cell_type": "code",
   "execution_count": null,
   "id": "1d33425a",
   "metadata": {},
   "outputs": [],
   "source": [
    "df_stations.head()"
   ]
  },
  {
   "cell_type": "markdown",
   "id": "dc0e0728",
   "metadata": {},
   "source": [
    "# Data Augmentation"
   ]
  },
  {
   "cell_type": "code",
   "execution_count": null,
   "id": "a05a4cf4",
   "metadata": {},
   "outputs": [],
   "source": [
    "df_trips[\"isweekend\"] = df_trips[\"Start Time\"].dt.weekday >= 5"
   ]
  },
  {
   "cell_type": "code",
   "execution_count": null,
   "id": "36f78034",
   "metadata": {},
   "outputs": [],
   "source": [
    "df_trips[\"weekday\"] = df_trips[\"Start Time\"].dt.weekday"
   ]
  },
  {
   "cell_type": "markdown",
   "id": "447a4833",
   "metadata": {
    "tags": []
   },
   "source": [
    "# Limpeza de Dados"
   ]
  },
  {
   "cell_type": "markdown",
   "id": "0208df4c",
   "metadata": {},
   "source": [
    "**Observações de Dados:**\n",
    "\n",
    "* Máximo de Trip duration muito alta\n",
    "* Longitude possui valores zerados, indicando trips não finalizadas. Provavelmente vamos dropar.\n",
    "* Birth Year mínimo de 1900 - precisamos ver a veracidade dessa coluna\n",
    "* Gender 0, 1, 2 - precisamos verificar os significados\n",
    "* Trip_Duration_in_min com máximo muito alto\n",
    "* Nenhum dado nulo no dataset"
   ]
  },
  {
   "cell_type": "code",
   "execution_count": null,
   "id": "1c3118dc",
   "metadata": {},
   "outputs": [],
   "source": [
    "df_trips_filtrado = df_trips"
   ]
  },
  {
   "cell_type": "markdown",
   "id": "61496a38",
   "metadata": {},
   "source": [
    "## Trip Duration"
   ]
  },
  {
   "cell_type": "code",
   "execution_count": null,
   "id": "6d60b29a",
   "metadata": {},
   "outputs": [],
   "source": [
    "trip_duration = df_trips_filtrado[\"Trip Duration\"]"
   ]
  },
  {
   "cell_type": "code",
   "execution_count": null,
   "id": "f4fd3cec",
   "metadata": {},
   "outputs": [],
   "source": [
    "Q1 = trip_duration.quantile(0.25)\n",
    "Q3 = trip_duration.quantile(0.75)\n",
    "IQR = Q3 - Q1"
   ]
  },
  {
   "cell_type": "code",
   "execution_count": null,
   "id": "30e67307",
   "metadata": {},
   "outputs": [],
   "source": [
    "duration_filter = ~((trip_duration < (Q1 - 1.5 * IQR)) |(trip_duration > (Q3 + 1.5 * IQR)))\n",
    "df_trips_filtrado = df_trips[duration_filter]"
   ]
  },
  {
   "cell_type": "code",
   "execution_count": null,
   "id": "cbfaa0a7",
   "metadata": {},
   "outputs": [],
   "source": [
    "df_trips_filtrado"
   ]
  },
  {
   "cell_type": "markdown",
   "id": "a17d68f7",
   "metadata": {},
   "source": [
    "## Latitude e Longitude Zerados"
   ]
  },
  {
   "cell_type": "markdown",
   "id": "ebd00eef",
   "metadata": {},
   "source": [
    "A filtragem anterior resolveu o problema."
   ]
  },
  {
   "cell_type": "code",
   "execution_count": null,
   "id": "c0abf56c",
   "metadata": {},
   "outputs": [],
   "source": [
    "df_trips_filtrado.describe()"
   ]
  },
  {
   "cell_type": "markdown",
   "id": "0c80fd55",
   "metadata": {},
   "source": [
    "# Análise das Distâncias 'Percorridas'"
   ]
  },
  {
   "cell_type": "code",
   "execution_count": null,
   "id": "87a9915a",
   "metadata": {},
   "outputs": [],
   "source": [
    "df_trips[\"Distâncias\"] = df_trips.apply(lambda linha:haversine((linha['Start Station Latitude'] , linha['Start Station Longitude']), (linha['End Station Latitude'], linha['End Station Longitude'])),axis=1)"
   ]
  },
  {
   "cell_type": "markdown",
   "id": "b813ebee",
   "metadata": {},
   "source": [
    "# Análise das Estações Populares"
   ]
  },
  {
   "cell_type": "code",
   "execution_count": null,
   "id": "f7d8ccb8",
   "metadata": {},
   "outputs": [],
   "source": [
    "df_trips_filtrado_fim_semana = df_trips_filtrado[df_trips_filtrado.isweekend]"
   ]
  },
  {
   "cell_type": "code",
   "execution_count": null,
   "id": "0f9c869f",
   "metadata": {},
   "outputs": [],
   "source": [
    "df_trips_filtrado_dia_semana = df_trips_filtrado[~df_trips_filtrado.isweekend]"
   ]
  },
  {
   "cell_type": "markdown",
   "id": "8347b036",
   "metadata": {},
   "source": [
    "## Populares de Início - Dias de Semana"
   ]
  },
  {
   "cell_type": "code",
   "execution_count": null,
   "id": "4ab2a0e4",
   "metadata": {},
   "outputs": [],
   "source": [
    "popularidade_start_stations = df_trips_filtrado_dia_semana['Start Station ID'].value_counts().rename(\"Start Station Count\")"
   ]
  },
  {
   "cell_type": "code",
   "execution_count": null,
   "id": "4662f2a0",
   "metadata": {},
   "outputs": [],
   "source": [
    "popularidade_start_stations.head()"
   ]
  },
  {
   "cell_type": "code",
   "execution_count": null,
   "id": "1d5173ac",
   "metadata": {},
   "outputs": [],
   "source": [
    "df_stations.head()"
   ]
  },
  {
   "cell_type": "code",
   "execution_count": null,
   "id": "2a78b970",
   "metadata": {},
   "outputs": [],
   "source": [
    "df_start_station_count = df_stations.merge(popularidade_start_stations, right_index=True, left_index=True).sort_values(\"Start Station Count\", ascending=False)"
   ]
  },
  {
   "cell_type": "code",
   "execution_count": null,
   "id": "e0141588",
   "metadata": {},
   "outputs": [],
   "source": [
    "df_start_station_count.head()"
   ]
  },
  {
   "cell_type": "code",
   "execution_count": null,
   "id": "15c7b962",
   "metadata": {
    "scrolled": false
   },
   "outputs": [],
   "source": [
    "fig = px.scatter_mapbox(\n",
    "    df_start_station_count.head(10), lat=\"Station Latitude\", lon=\"Station Longitude\", size=\"Start Station Count\",\n",
    "                  color_continuous_scale=px.colors.cyclical.IceFire, size_max=15, zoom=10)\n",
    "fig.show()"
   ]
  },
  {
   "cell_type": "markdown",
   "id": "8db75017",
   "metadata": {},
   "source": [
    "### Conclusão Parcial\n",
    "\n",
    "To be Done..."
   ]
  },
  {
   "cell_type": "markdown",
   "id": "20cbc405",
   "metadata": {},
   "source": [
    "## Populares de Início - Fins de Semana"
   ]
  },
  {
   "cell_type": "code",
   "execution_count": null,
   "id": "f0ca93d4",
   "metadata": {},
   "outputs": [],
   "source": [
    "popularidade_start_stations = df_trips_filtrado_fim_semana['Start Station ID'].value_counts().rename(\"Start Station Count\")"
   ]
  },
  {
   "cell_type": "code",
   "execution_count": null,
   "id": "72f889c5",
   "metadata": {},
   "outputs": [],
   "source": [
    "popularidade_start_stations.head()"
   ]
  },
  {
   "cell_type": "code",
   "execution_count": null,
   "id": "656828f2",
   "metadata": {},
   "outputs": [],
   "source": [
    "df_stations.head()"
   ]
  },
  {
   "cell_type": "code",
   "execution_count": null,
   "id": "ede28880",
   "metadata": {},
   "outputs": [],
   "source": [
    "df_start_station_count = df_stations.merge(popularidade_start_stations, right_index=True, left_index=True).sort_values(\"Start Station Count\", ascending=False)"
   ]
  },
  {
   "cell_type": "code",
   "execution_count": null,
   "id": "b4583480",
   "metadata": {},
   "outputs": [],
   "source": [
    "df_start_station_count.head()"
   ]
  },
  {
   "cell_type": "code",
   "execution_count": null,
   "id": "8da3ab5a",
   "metadata": {
    "scrolled": false
   },
   "outputs": [],
   "source": [
    "fig = px.scatter_mapbox(\n",
    "    df_start_station_count.head(10), lat=\"Station Latitude\", lon=\"Station Longitude\", size=\"Start Station Count\",\n",
    "                  color_continuous_scale=px.colors.cyclical.IceFire, size_max=15, zoom=10)\n",
    "fig.show()"
   ]
  },
  {
   "cell_type": "markdown",
   "id": "1ad4943b",
   "metadata": {},
   "source": [
    "### Conclusão Parcial\n",
    "\n",
    "To be Done..."
   ]
  },
  {
   "cell_type": "markdown",
   "id": "854c410c",
   "metadata": {},
   "source": [
    "## Populares de Fim - Dias de Semana"
   ]
  },
  {
   "cell_type": "code",
   "execution_count": null,
   "id": "8156a817",
   "metadata": {},
   "outputs": [],
   "source": [
    "popularidade_end_stations = df_trips_filtrado_dia_semana['End Station ID'].value_counts().rename(\"End Station Count\")"
   ]
  },
  {
   "cell_type": "code",
   "execution_count": null,
   "id": "815d3c20",
   "metadata": {},
   "outputs": [],
   "source": [
    "popularidade_end_stations.head()"
   ]
  },
  {
   "cell_type": "code",
   "execution_count": null,
   "id": "de0e18b1",
   "metadata": {},
   "outputs": [],
   "source": [
    "df_stations.head()"
   ]
  },
  {
   "cell_type": "code",
   "execution_count": null,
   "id": "85396e8d",
   "metadata": {},
   "outputs": [],
   "source": [
    "df_end_station_count = df_stations.merge(popularidade_end_stations, right_index=True, left_index=True).sort_values(\"End Station Count\", ascending=False)"
   ]
  },
  {
   "cell_type": "code",
   "execution_count": null,
   "id": "544ad051",
   "metadata": {},
   "outputs": [],
   "source": [
    "df_end_station_count.head()"
   ]
  },
  {
   "cell_type": "code",
   "execution_count": null,
   "id": "4b2c6202",
   "metadata": {
    "scrolled": false
   },
   "outputs": [],
   "source": [
    "fig = px.scatter_mapbox(\n",
    "    df_end_station_count.head(10), lat=\"Station Latitude\", lon=\"Station Longitude\", size=\"End Station Count\",\n",
    "                  color_continuous_scale=px.colors.cyclical.IceFire, size_max=15, zoom=10)\n",
    "fig.show()"
   ]
  },
  {
   "cell_type": "markdown",
   "id": "917127ad",
   "metadata": {},
   "source": [
    "### Conclusão Parcial\n",
    "\n",
    "To be Done..."
   ]
  },
  {
   "cell_type": "markdown",
   "id": "654149b3",
   "metadata": {},
   "source": [
    "## Populares de Fim - Fins de Semana"
   ]
  },
  {
   "cell_type": "code",
   "execution_count": null,
   "id": "b6c7f29b",
   "metadata": {},
   "outputs": [],
   "source": [
    "popularidade_end_stations = df_trips_filtrado_fim_semana['End Station ID'].value_counts().rename(\"End Station Count\")"
   ]
  },
  {
   "cell_type": "code",
   "execution_count": null,
   "id": "0e0d6812",
   "metadata": {},
   "outputs": [],
   "source": [
    "popularidade_end_stations.head()"
   ]
  },
  {
   "cell_type": "code",
   "execution_count": null,
   "id": "9d80a4e6",
   "metadata": {},
   "outputs": [],
   "source": [
    "df_stations.head()"
   ]
  },
  {
   "cell_type": "code",
   "execution_count": null,
   "id": "b0d7401d",
   "metadata": {},
   "outputs": [],
   "source": [
    "df_end_station_count = df_stations.merge(popularidade_end_stations, right_index=True, left_index=True).sort_values(\"End Station Count\", ascending=False)"
   ]
  },
  {
   "cell_type": "code",
   "execution_count": null,
   "id": "5ef46356",
   "metadata": {},
   "outputs": [],
   "source": [
    "df_end_station_count.head()"
   ]
  },
  {
   "cell_type": "code",
   "execution_count": null,
   "id": "296d278f",
   "metadata": {
    "scrolled": false
   },
   "outputs": [],
   "source": [
    "fig = px.scatter_mapbox(\n",
    "    df_end_station_count.head(10), lat=\"Station Latitude\", lon=\"Station Longitude\", size=\"End Station Count\",\n",
    "                  color_continuous_scale=px.colors.cyclical.IceFire, size_max=15, zoom=10)\n",
    "fig.show()"
   ]
  },
  {
   "cell_type": "markdown",
   "id": "5a7ad40e",
   "metadata": {},
   "source": [
    "### Conclusão Parcial\n",
    "\n",
    "To be Done..."
   ]
  },
  {
   "cell_type": "markdown",
   "id": "107c3900",
   "metadata": {},
   "source": [
    "## Conclusões sobre as Popularidades"
   ]
  },
  {
   "cell_type": "markdown",
   "id": "80f58ca8",
   "metadata": {},
   "source": [
    "To be done..."
   ]
  },
  {
   "cell_type": "markdown",
   "id": "1133a64f",
   "metadata": {},
   "source": [
    "# Análise dos Horários de Pico"
   ]
  },
  {
   "cell_type": "code",
   "execution_count": null,
   "id": "8e5ed0a9",
   "metadata": {},
   "outputs": [],
   "source": [
    "df_trips_filtrado_fim_semana = df_trips_filtrado[df_trips_filtrado.isweekend]"
   ]
  },
  {
   "cell_type": "code",
   "execution_count": null,
   "id": "7bd96e21",
   "metadata": {},
   "outputs": [],
   "source": [
    "df_trips_filtrado_dia_semana = df_trips_filtrado[~df_trips_filtrado.isweekend]"
   ]
  },
  {
   "cell_type": "markdown",
   "id": "9ab0c0c8",
   "metadata": {},
   "source": [
    "## Separado por Weekday"
   ]
  },
  {
   "cell_type": "code",
   "execution_count": null,
   "id": "8773edb9",
   "metadata": {},
   "outputs": [],
   "source": [
    "df_horarios_pico = df_trips_filtrado.copy()"
   ]
  },
  {
   "cell_type": "code",
   "execution_count": null,
   "id": "eb08cde5",
   "metadata": {},
   "outputs": [],
   "source": [
    "df_horarios_pico['Hour'] = df_horarios_pico['Start Time'].dt.hour"
   ]
  },
  {
   "cell_type": "code",
   "execution_count": null,
   "id": "bc99e442",
   "metadata": {},
   "outputs": [],
   "source": [
    "df_horarios_pico[['weekday', 'Hour']].head()"
   ]
  },
  {
   "cell_type": "code",
   "execution_count": null,
   "id": "c07dcdf8",
   "metadata": {},
   "outputs": [],
   "source": [
    "hour_distribution = pd.pivot_table(df_horarios_pico[['weekday', 'Hour']], columns='weekday', index='Hour', aggfunc=len)"
   ]
  },
  {
   "cell_type": "code",
   "execution_count": null,
   "id": "a1d18158",
   "metadata": {},
   "outputs": [],
   "source": [
    "px.line(hour_distribution)"
   ]
  },
  {
   "cell_type": "markdown",
   "id": "00933dc7",
   "metadata": {},
   "source": [
    "### Conclusão"
   ]
  },
  {
   "cell_type": "markdown",
   "id": "88a06b52",
   "metadata": {},
   "source": [
    "To be done..."
   ]
  },
  {
   "cell_type": "markdown",
   "id": "a8ecdd27",
   "metadata": {},
   "source": [
    "# Análise do Uso por Dia da Semana"
   ]
  },
  {
   "cell_type": "code",
   "execution_count": null,
   "id": "2d1449c8",
   "metadata": {},
   "outputs": [],
   "source": [
    "df_trips_filtrado['weekday'].value_counts().sort_index().plot.bar()"
   ]
  },
  {
   "cell_type": "markdown",
   "id": "a703b36b",
   "metadata": {},
   "source": [
    "# Análise de Sazonalidade"
   ]
  },
  {
   "cell_type": "markdown",
   "id": "610a165f",
   "metadata": {},
   "source": [
    "## Construção da Série Temporal"
   ]
  },
  {
   "cell_type": "code",
   "execution_count": null,
   "id": "3782c64d",
   "metadata": {},
   "outputs": [],
   "source": [
    "df_time_series = df_trips_filtrado.copy()"
   ]
  },
  {
   "cell_type": "code",
   "execution_count": null,
   "id": "03e303c7",
   "metadata": {},
   "outputs": [],
   "source": [
    "df_time_series['date-hour'] = pd.to_datetime(\n",
    "    df_time_series['Start Time'].apply(\n",
    "        lambda dt: dt.strftime(\"%Y-%m-%d %H\")\n",
    "    ),\n",
    "    format=\"%Y-%m-%d %H\"\n",
    ")"
   ]
  },
  {
   "cell_type": "code",
   "execution_count": null,
   "id": "db3d61dc",
   "metadata": {},
   "outputs": [],
   "source": [
    "usage_series = df_time_series.groupby(['date-hour']).size()"
   ]
  },
  {
   "cell_type": "code",
   "execution_count": null,
   "id": "fbbf60a3",
   "metadata": {},
   "outputs": [],
   "source": [
    "usage_series.head()"
   ]
  },
  {
   "cell_type": "code",
   "execution_count": null,
   "id": "dbf9cd9e",
   "metadata": {},
   "outputs": [],
   "source": [
    "# Precisamos que o dataframe tenha a propriedade de frequência por hora\n",
    "usage_series = usage_series.asfreq('h')"
   ]
  },
  {
   "cell_type": "code",
   "execution_count": null,
   "id": "98e1f6a5",
   "metadata": {},
   "outputs": [],
   "source": [
    "# Precisamos preencher os buracos vazios com uma interpolação\n",
    "usage_series = usage_series.interpolate()"
   ]
  },
  {
   "cell_type": "code",
   "execution_count": null,
   "id": "210454e9",
   "metadata": {
    "scrolled": false
   },
   "outputs": [],
   "source": [
    "usage_series.plot(figsize=(15,5))"
   ]
  },
  {
   "cell_type": "markdown",
   "id": "67fb9513",
   "metadata": {},
   "source": [
    "## Análise da Decomposição de Sazonalidade"
   ]
  },
  {
   "cell_type": "markdown",
   "id": "58bcebce",
   "metadata": {},
   "source": [
    "No estudo de séries temporais a sazonalidade é uma questão importante pois define o padrão de comportamento da série. Uma técnica de estudo de sazonalidade é a partir da decomposição em três partes:\n",
    "\n",
    "* **Tendência:** Define a análise macro do comportamento da curva, que é a tendência geral para cada ponto da série.\n",
    "* **Sazonalidade:** Define os padrões mais localizados/micros da curva.\n",
    "* **Resíduo:** Todo o restante que não pode ser predito. Essa é uma medida importante porque em teoria deve ser aleatória, não demonstrando padrões nos resíduos. Se houverem razões podemos concluir que nosso modelo de decomposição não entende completamente os dados e está perdendo padrões."
   ]
  },
  {
   "cell_type": "markdown",
   "id": "e9f36cce",
   "metadata": {},
   "source": [
    "https://machinelearningmastery.com/decompose-time-series-data-trend-seasonality/\n",
    "\n",
    "https://otexts.com/fpp3/"
   ]
  },
  {
   "cell_type": "code",
   "execution_count": null,
   "id": "28f4d5cf",
   "metadata": {},
   "outputs": [],
   "source": [
    "from statsmodels.tsa.seasonal import seasonal_decompose"
   ]
  },
  {
   "cell_type": "code",
   "execution_count": null,
   "id": "759bca7f",
   "metadata": {},
   "outputs": [],
   "source": [
    "result = seasonal_decompose(usage_series, model='additive')"
   ]
  },
  {
   "cell_type": "code",
   "execution_count": null,
   "id": "4b472b3d",
   "metadata": {},
   "outputs": [],
   "source": [
    "result.trend.plot(figsize=(15,5))"
   ]
  },
  {
   "cell_type": "markdown",
   "id": "af900c13",
   "metadata": {},
   "source": [
    "Podemos ver que a tendência capturou uma alta de acordo com os meses mais centrais do ano. Além disso, podemos ver que ela capturou curvas semanais, indicando o comportamento de sazonalidades semanais.\n",
    "\n",
    "**Importante**: A tendência deve ser uma curva muito linear, pois não deve levar em consideração as volatilidades micro. O significado dessa sazonalidade embutida na tendência é que nossa componente de sazonalidade não deu conta de descobrir todos os padrões. Isso porque podemos encontrar três sazonalidades nos nossos dados: horária, diária e semanal. Podemos até encontrar uma anual se quisermos."
   ]
  },
  {
   "cell_type": "code",
   "execution_count": null,
   "id": "d3dc37f1",
   "metadata": {},
   "outputs": [],
   "source": [
    "result.trend[:1000].plot(figsize=(15,5))"
   ]
  },
  {
   "cell_type": "markdown",
   "id": "e3fedb6e",
   "metadata": {},
   "source": [
    "Na análise da sazonalidade podemos ver que capturou a sazonalidade diária. Em uma análise mais profunda podemos ainda ver que essa é a sazonalidade dos dias de semana, visto que o comportamento dos fins de semana é diferente. Isso mostra como as múltiplas sazonalidades não foram captadas."
   ]
  },
  {
   "cell_type": "code",
   "execution_count": null,
   "id": "13140b18",
   "metadata": {},
   "outputs": [],
   "source": [
    "result.seasonal[:100].plot(figsize=(15,5))"
   ]
  },
  {
   "cell_type": "markdown",
   "id": "0d3ea79c",
   "metadata": {},
   "source": [
    "Com os resíduos também podemos ver as sazonalidades que escaparam do modelo."
   ]
  },
  {
   "cell_type": "code",
   "execution_count": null,
   "id": "3628dd73",
   "metadata": {},
   "outputs": [],
   "source": [
    "result.resid[:1000].plot(figsize=(15,5))"
   ]
  },
  {
   "cell_type": "code",
   "execution_count": null,
   "id": "fe8cc11d",
   "metadata": {},
   "outputs": [],
   "source": [
    "result.observed[:1000].plot(figsize=(15,5))"
   ]
  },
  {
   "cell_type": "code",
   "execution_count": null,
   "id": "ad51663e",
   "metadata": {},
   "outputs": [],
   "source": []
  }
 ],
 "metadata": {
  "kernelspec": {
   "display_name": "Python 3",
   "language": "python",
   "name": "python3"
  },
  "language_info": {
   "codemirror_mode": {
    "name": "ipython",
    "version": 3
   },
   "file_extension": ".py",
   "mimetype": "text/x-python",
   "name": "python",
   "nbconvert_exporter": "python",
   "pygments_lexer": "ipython3",
   "version": "3.8.10"
  }
 },
 "nbformat": 4,
 "nbformat_minor": 5
}
