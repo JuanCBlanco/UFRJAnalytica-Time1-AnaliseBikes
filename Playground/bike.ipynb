{
 "cells": [
  {
   "cell_type": "markdown",
   "metadata": {},
   "source": [
    "#### Pequena análise do dataset das Bikes"
   ]
  },
  {
   "cell_type": "code",
   "execution_count": 1,
   "metadata": {},
   "outputs": [],
   "source": [
    "import pandas as pd\n",
    "import seaborn as sns\n",
    "import matplotlib.pyplot as plt\n",
    "\n",
    "pd.set_option('display.max_columns', None)"
   ]
  },
  {
   "cell_type": "code",
   "execution_count": 2,
   "metadata": {},
   "outputs": [],
   "source": [
    "data = pd.read_csv(\"NYC-BikeShare-2015-2017-combined.csv\")"
   ]
  },
  {
   "cell_type": "code",
   "execution_count": 9,
   "metadata": {},
   "outputs": [
    {
     "data": {
      "text/html": [
       "<div>\n",
       "<style scoped>\n",
       "    .dataframe tbody tr th:only-of-type {\n",
       "        vertical-align: middle;\n",
       "    }\n",
       "\n",
       "    .dataframe tbody tr th {\n",
       "        vertical-align: top;\n",
       "    }\n",
       "\n",
       "    .dataframe thead th {\n",
       "        text-align: right;\n",
       "    }\n",
       "</style>\n",
       "<table border=\"1\" class=\"dataframe\">\n",
       "  <thead>\n",
       "    <tr style=\"text-align: right;\">\n",
       "      <th></th>\n",
       "      <th>Unnamed: 0</th>\n",
       "      <th>Trip Duration</th>\n",
       "      <th>Start Time</th>\n",
       "      <th>Stop Time</th>\n",
       "      <th>Start Station ID</th>\n",
       "      <th>Start Station Name</th>\n",
       "      <th>Start Station Latitude</th>\n",
       "      <th>Start Station Longitude</th>\n",
       "      <th>End Station ID</th>\n",
       "      <th>End Station Name</th>\n",
       "      <th>End Station Latitude</th>\n",
       "      <th>End Station Longitude</th>\n",
       "      <th>Bike ID</th>\n",
       "      <th>User Type</th>\n",
       "      <th>Birth Year</th>\n",
       "      <th>Gender</th>\n",
       "      <th>Trip_Duration_in_min</th>\n",
       "      <th>Age Filtered</th>\n",
       "      <th>Gen Filtered</th>\n",
       "      <th>Cont</th>\n",
       "    </tr>\n",
       "  </thead>\n",
       "  <tbody>\n",
       "    <tr>\n",
       "      <th>0</th>\n",
       "      <td>0</td>\n",
       "      <td>376</td>\n",
       "      <td>2015-10-01 00:16:26</td>\n",
       "      <td>2015-10-01 00:22:42</td>\n",
       "      <td>3212</td>\n",
       "      <td>Christ Hospital</td>\n",
       "      <td>40.734786</td>\n",
       "      <td>-74.050444</td>\n",
       "      <td>3207</td>\n",
       "      <td>Oakland Ave</td>\n",
       "      <td>40.737604</td>\n",
       "      <td>-74.052478</td>\n",
       "      <td>24470</td>\n",
       "      <td>Subscriber</td>\n",
       "      <td>1960.0</td>\n",
       "      <td>1</td>\n",
       "      <td>6</td>\n",
       "      <td>51-60</td>\n",
       "      <td>Masculino</td>\n",
       "      <td>1</td>\n",
       "    </tr>\n",
       "    <tr>\n",
       "      <th>1</th>\n",
       "      <td>1</td>\n",
       "      <td>739</td>\n",
       "      <td>2015-10-01 00:27:12</td>\n",
       "      <td>2015-10-01 00:39:32</td>\n",
       "      <td>3207</td>\n",
       "      <td>Oakland Ave</td>\n",
       "      <td>40.737604</td>\n",
       "      <td>-74.052478</td>\n",
       "      <td>3212</td>\n",
       "      <td>Christ Hospital</td>\n",
       "      <td>40.734786</td>\n",
       "      <td>-74.050444</td>\n",
       "      <td>24481</td>\n",
       "      <td>Subscriber</td>\n",
       "      <td>1960.0</td>\n",
       "      <td>1</td>\n",
       "      <td>12</td>\n",
       "      <td>51-60</td>\n",
       "      <td>Masculino</td>\n",
       "      <td>1</td>\n",
       "    </tr>\n",
       "    <tr>\n",
       "      <th>2</th>\n",
       "      <td>2</td>\n",
       "      <td>2714</td>\n",
       "      <td>2015-10-01 00:32:46</td>\n",
       "      <td>2015-10-01 01:18:01</td>\n",
       "      <td>3193</td>\n",
       "      <td>Lincoln Park</td>\n",
       "      <td>40.724605</td>\n",
       "      <td>-74.078406</td>\n",
       "      <td>3193</td>\n",
       "      <td>Lincoln Park</td>\n",
       "      <td>40.724605</td>\n",
       "      <td>-74.078406</td>\n",
       "      <td>24628</td>\n",
       "      <td>Subscriber</td>\n",
       "      <td>1983.0</td>\n",
       "      <td>1</td>\n",
       "      <td>45</td>\n",
       "      <td>31-40</td>\n",
       "      <td>Masculino</td>\n",
       "      <td>1</td>\n",
       "    </tr>\n",
       "    <tr>\n",
       "      <th>3</th>\n",
       "      <td>3</td>\n",
       "      <td>275</td>\n",
       "      <td>2015-10-01 00:34:31</td>\n",
       "      <td>2015-10-01 00:39:06</td>\n",
       "      <td>3199</td>\n",
       "      <td>Newport Pkwy</td>\n",
       "      <td>40.728745</td>\n",
       "      <td>-74.032108</td>\n",
       "      <td>3187</td>\n",
       "      <td>Warren St</td>\n",
       "      <td>40.721124</td>\n",
       "      <td>-74.038051</td>\n",
       "      <td>24613</td>\n",
       "      <td>Subscriber</td>\n",
       "      <td>1975.0</td>\n",
       "      <td>1</td>\n",
       "      <td>5</td>\n",
       "      <td>41-50</td>\n",
       "      <td>Masculino</td>\n",
       "      <td>1</td>\n",
       "    </tr>\n",
       "    <tr>\n",
       "      <th>4</th>\n",
       "      <td>4</td>\n",
       "      <td>561</td>\n",
       "      <td>2015-10-01 00:40:12</td>\n",
       "      <td>2015-10-01 00:49:33</td>\n",
       "      <td>3183</td>\n",
       "      <td>Exchange Place</td>\n",
       "      <td>40.716247</td>\n",
       "      <td>-74.033459</td>\n",
       "      <td>3192</td>\n",
       "      <td>Liberty Light Rail</td>\n",
       "      <td>40.711242</td>\n",
       "      <td>-74.055701</td>\n",
       "      <td>24668</td>\n",
       "      <td>Customer</td>\n",
       "      <td>1984.0</td>\n",
       "      <td>0</td>\n",
       "      <td>9</td>\n",
       "      <td>31-40</td>\n",
       "      <td>Desconhecido</td>\n",
       "      <td>1</td>\n",
       "    </tr>\n",
       "  </tbody>\n",
       "</table>\n",
       "</div>"
      ],
      "text/plain": [
       "   Unnamed: 0  Trip Duration           Start Time            Stop Time  \\\n",
       "0           0            376  2015-10-01 00:16:26  2015-10-01 00:22:42   \n",
       "1           1            739  2015-10-01 00:27:12  2015-10-01 00:39:32   \n",
       "2           2           2714  2015-10-01 00:32:46  2015-10-01 01:18:01   \n",
       "3           3            275  2015-10-01 00:34:31  2015-10-01 00:39:06   \n",
       "4           4            561  2015-10-01 00:40:12  2015-10-01 00:49:33   \n",
       "\n",
       "   Start Station ID Start Station Name  Start Station Latitude  \\\n",
       "0              3212    Christ Hospital               40.734786   \n",
       "1              3207        Oakland Ave               40.737604   \n",
       "2              3193       Lincoln Park               40.724605   \n",
       "3              3199       Newport Pkwy               40.728745   \n",
       "4              3183     Exchange Place               40.716247   \n",
       "\n",
       "   Start Station Longitude  End Station ID    End Station Name  \\\n",
       "0               -74.050444            3207         Oakland Ave   \n",
       "1               -74.052478            3212     Christ Hospital   \n",
       "2               -74.078406            3193        Lincoln Park   \n",
       "3               -74.032108            3187           Warren St   \n",
       "4               -74.033459            3192  Liberty Light Rail   \n",
       "\n",
       "   End Station Latitude  End Station Longitude  Bike ID   User Type  \\\n",
       "0             40.737604             -74.052478    24470  Subscriber   \n",
       "1             40.734786             -74.050444    24481  Subscriber   \n",
       "2             40.724605             -74.078406    24628  Subscriber   \n",
       "3             40.721124             -74.038051    24613  Subscriber   \n",
       "4             40.711242             -74.055701    24668    Customer   \n",
       "\n",
       "   Birth Year  Gender  Trip_Duration_in_min Age Filtered  Gen Filtered  Cont  \n",
       "0      1960.0       1                     6        51-60     Masculino     1  \n",
       "1      1960.0       1                    12        51-60     Masculino     1  \n",
       "2      1983.0       1                    45        31-40     Masculino     1  \n",
       "3      1975.0       1                     5        41-50     Masculino     1  \n",
       "4      1984.0       0                     9        31-40  Desconhecido     1  "
      ]
     },
     "execution_count": 9,
     "metadata": {},
     "output_type": "execute_result"
    }
   ],
   "source": [
    "data.head()"
   ]
  },
  {
   "cell_type": "code",
   "execution_count": 3,
   "metadata": {},
   "outputs": [
    {
     "data": {
      "text/html": [
       "<div>\n",
       "<style scoped>\n",
       "    .dataframe tbody tr th:only-of-type {\n",
       "        vertical-align: middle;\n",
       "    }\n",
       "\n",
       "    .dataframe tbody tr th {\n",
       "        vertical-align: top;\n",
       "    }\n",
       "\n",
       "    .dataframe thead th {\n",
       "        text-align: right;\n",
       "    }\n",
       "</style>\n",
       "<table border=\"1\" class=\"dataframe\">\n",
       "  <thead>\n",
       "    <tr style=\"text-align: right;\">\n",
       "      <th></th>\n",
       "      <th>Unnamed: 0</th>\n",
       "      <th>Trip Duration</th>\n",
       "      <th>Start Station ID</th>\n",
       "      <th>Start Station Latitude</th>\n",
       "      <th>Start Station Longitude</th>\n",
       "      <th>End Station ID</th>\n",
       "      <th>End Station Latitude</th>\n",
       "      <th>End Station Longitude</th>\n",
       "      <th>Bike ID</th>\n",
       "      <th>Birth Year</th>\n",
       "      <th>Gender</th>\n",
       "      <th>Trip_Duration_in_min</th>\n",
       "    </tr>\n",
       "  </thead>\n",
       "  <tbody>\n",
       "    <tr>\n",
       "      <th>count</th>\n",
       "      <td>735502.000000</td>\n",
       "      <td>7.355020e+05</td>\n",
       "      <td>735502.000000</td>\n",
       "      <td>735502.000000</td>\n",
       "      <td>735502.000000</td>\n",
       "      <td>735502.000000</td>\n",
       "      <td>735502.000000</td>\n",
       "      <td>735502.000000</td>\n",
       "      <td>735502.000000</td>\n",
       "      <td>735502.000000</td>\n",
       "      <td>735502.000000</td>\n",
       "      <td>735502.000000</td>\n",
       "    </tr>\n",
       "    <tr>\n",
       "      <th>mean</th>\n",
       "      <td>10582.401084</td>\n",
       "      <td>9.343125e+02</td>\n",
       "      <td>3206.764183</td>\n",
       "      <td>40.723125</td>\n",
       "      <td>-74.046412</td>\n",
       "      <td>3203.387325</td>\n",
       "      <td>40.722371</td>\n",
       "      <td>-74.045415</td>\n",
       "      <td>24914.009133</td>\n",
       "      <td>1979.544239</td>\n",
       "      <td>1.123668</td>\n",
       "      <td>15.570669</td>\n",
       "    </tr>\n",
       "    <tr>\n",
       "      <th>std</th>\n",
       "      <td>7679.871929</td>\n",
       "      <td>4.063878e+04</td>\n",
       "      <td>26.546683</td>\n",
       "      <td>0.008121</td>\n",
       "      <td>0.011191</td>\n",
       "      <td>64.358120</td>\n",
       "      <td>0.095296</td>\n",
       "      <td>0.173044</td>\n",
       "      <td>753.768581</td>\n",
       "      <td>9.371192</td>\n",
       "      <td>0.519694</td>\n",
       "      <td>677.312437</td>\n",
       "    </tr>\n",
       "    <tr>\n",
       "      <th>min</th>\n",
       "      <td>0.000000</td>\n",
       "      <td>6.100000e+01</td>\n",
       "      <td>3183.000000</td>\n",
       "      <td>40.692640</td>\n",
       "      <td>-74.096937</td>\n",
       "      <td>147.000000</td>\n",
       "      <td>0.000000</td>\n",
       "      <td>-74.096937</td>\n",
       "      <td>14552.000000</td>\n",
       "      <td>1900.000000</td>\n",
       "      <td>0.000000</td>\n",
       "      <td>1.000000</td>\n",
       "    </tr>\n",
       "    <tr>\n",
       "      <th>25%</th>\n",
       "      <td>4484.000000</td>\n",
       "      <td>2.460000e+02</td>\n",
       "      <td>3186.000000</td>\n",
       "      <td>40.717732</td>\n",
       "      <td>-74.050656</td>\n",
       "      <td>3186.000000</td>\n",
       "      <td>40.716540</td>\n",
       "      <td>-74.050444</td>\n",
       "      <td>24486.000000</td>\n",
       "      <td>1975.000000</td>\n",
       "      <td>1.000000</td>\n",
       "      <td>4.000000</td>\n",
       "    </tr>\n",
       "    <tr>\n",
       "      <th>50%</th>\n",
       "      <td>9156.000000</td>\n",
       "      <td>3.830000e+02</td>\n",
       "      <td>3202.000000</td>\n",
       "      <td>40.721525</td>\n",
       "      <td>-74.044247</td>\n",
       "      <td>3199.000000</td>\n",
       "      <td>40.721124</td>\n",
       "      <td>-74.043845</td>\n",
       "      <td>24602.000000</td>\n",
       "      <td>1982.000000</td>\n",
       "      <td>1.000000</td>\n",
       "      <td>6.000000</td>\n",
       "    </tr>\n",
       "    <tr>\n",
       "      <th>75%</th>\n",
       "      <td>15003.000000</td>\n",
       "      <td>6.520000e+02</td>\n",
       "      <td>3211.000000</td>\n",
       "      <td>40.727596</td>\n",
       "      <td>-74.038051</td>\n",
       "      <td>3211.000000</td>\n",
       "      <td>40.727224</td>\n",
       "      <td>-74.036486</td>\n",
       "      <td>24711.000000</td>\n",
       "      <td>1986.000000</td>\n",
       "      <td>1.000000</td>\n",
       "      <td>11.000000</td>\n",
       "    </tr>\n",
       "    <tr>\n",
       "      <th>max</th>\n",
       "      <td>34148.000000</td>\n",
       "      <td>2.026021e+07</td>\n",
       "      <td>3426.000000</td>\n",
       "      <td>40.752559</td>\n",
       "      <td>-74.032108</td>\n",
       "      <td>3442.000000</td>\n",
       "      <td>40.801343</td>\n",
       "      <td>0.000000</td>\n",
       "      <td>29296.000000</td>\n",
       "      <td>2000.000000</td>\n",
       "      <td>2.000000</td>\n",
       "      <td>337670.000000</td>\n",
       "    </tr>\n",
       "  </tbody>\n",
       "</table>\n",
       "</div>"
      ],
      "text/plain": [
       "          Unnamed: 0  Trip Duration  Start Station ID  Start Station Latitude  \\\n",
       "count  735502.000000   7.355020e+05     735502.000000           735502.000000   \n",
       "mean    10582.401084   9.343125e+02       3206.764183               40.723125   \n",
       "std      7679.871929   4.063878e+04         26.546683                0.008121   \n",
       "min         0.000000   6.100000e+01       3183.000000               40.692640   \n",
       "25%      4484.000000   2.460000e+02       3186.000000               40.717732   \n",
       "50%      9156.000000   3.830000e+02       3202.000000               40.721525   \n",
       "75%     15003.000000   6.520000e+02       3211.000000               40.727596   \n",
       "max     34148.000000   2.026021e+07       3426.000000               40.752559   \n",
       "\n",
       "       Start Station Longitude  End Station ID  End Station Latitude  \\\n",
       "count            735502.000000   735502.000000         735502.000000   \n",
       "mean                -74.046412     3203.387325             40.722371   \n",
       "std                   0.011191       64.358120              0.095296   \n",
       "min                 -74.096937      147.000000              0.000000   \n",
       "25%                 -74.050656     3186.000000             40.716540   \n",
       "50%                 -74.044247     3199.000000             40.721124   \n",
       "75%                 -74.038051     3211.000000             40.727224   \n",
       "max                 -74.032108     3442.000000             40.801343   \n",
       "\n",
       "       End Station Longitude        Bike ID     Birth Year         Gender  \\\n",
       "count          735502.000000  735502.000000  735502.000000  735502.000000   \n",
       "mean              -74.045415   24914.009133    1979.544239       1.123668   \n",
       "std                 0.173044     753.768581       9.371192       0.519694   \n",
       "min               -74.096937   14552.000000    1900.000000       0.000000   \n",
       "25%               -74.050444   24486.000000    1975.000000       1.000000   \n",
       "50%               -74.043845   24602.000000    1982.000000       1.000000   \n",
       "75%               -74.036486   24711.000000    1986.000000       1.000000   \n",
       "max                 0.000000   29296.000000    2000.000000       2.000000   \n",
       "\n",
       "       Trip_Duration_in_min  \n",
       "count         735502.000000  \n",
       "mean              15.570669  \n",
       "std              677.312437  \n",
       "min                1.000000  \n",
       "25%                4.000000  \n",
       "50%                6.000000  \n",
       "75%               11.000000  \n",
       "max           337670.000000  "
      ]
     },
     "execution_count": 3,
     "metadata": {},
     "output_type": "execute_result"
    }
   ],
   "source": [
    "data.describe()"
   ]
  },
  {
   "cell_type": "markdown",
   "metadata": {},
   "source": [
    "#### Análise Idade com Tempo Médio de Viagem"
   ]
  },
  {
   "cell_type": "code",
   "execution_count": 4,
   "metadata": {},
   "outputs": [],
   "source": [
    "def clusterage(x):\n",
    "    if 2017-x <= 20:\n",
    "      return \"0-20\"\n",
    "    elif 2017-x <= 30:\n",
    "      return \"21-30\"\n",
    "    elif 2017-x<=40:\n",
    "      return \"31-40\"\n",
    "    elif 2017-x<=50:\n",
    "      return \"41-50\"\n",
    "    elif 2017-x<=60:\n",
    "      return \"51-60\"\n",
    "    elif 2017-x<=70:\n",
    "      return \"61-70\"\n",
    "    elif 2017-x<=80:\n",
    "      return \"71-80\"\n",
    "    elif 2017-x<=90:\n",
    "      return \"81-90\"\n",
    "    elif 2017-x<=100:\n",
    "      return \"91-100\"\n",
    "    else:\n",
    "      return \">100\"\n",
    "\n",
    "data_with_filter_age = data\n",
    "\n",
    "data_with_filter_age['Age Filtered']=data['Birth Year'].map(lambda x:clusterage(x))"
   ]
  },
  {
   "cell_type": "code",
   "execution_count": 5,
   "metadata": {},
   "outputs": [
    {
     "name": "stdout",
     "output_type": "stream",
     "text": [
      "              Trip_Duration_in_min\n",
      "Age Filtered                      \n",
      "0-20                     14.848545\n",
      "21-30                    11.742296\n",
      "31-40                    17.730651\n",
      "41-50                    15.716549\n",
      "51-60                    13.706858\n",
      "61-70                    10.911583\n",
      "71-80                    18.007335\n",
      "81-90                     4.210084\n",
      ">100                      9.473684\n"
     ]
    },
    {
     "data": {
      "text/plain": [
       "<AxesSubplot:xlabel='Age Filtered'>"
      ]
     },
     "execution_count": 5,
     "metadata": {},
     "output_type": "execute_result"
    },
    {
     "data": {
      "image/png": "[encoded data removed]",
      "text/plain": [
       "<Figure size 432x288 with 1 Axes>"
      ]
     },
     "metadata": {
      "needs_background": "light"
     },
     "output_type": "display_data"
    }
   ],
   "source": [
    "min_age=data_with_filter_age[['Age Filtered', 'Trip_Duration_in_min']].groupby('Age Filtered').mean()\n",
    "print(min_age)\n",
    "min_age.plot(kind='bar')"
   ]
  },
  {
   "cell_type": "markdown",
   "metadata": {},
   "source": [
    "Podemos perceber uma diminuição no tempo de viagem entre as pessoas de 41-70 e depois um aumento com as pessoas de 71-80, acredito que posso ser uma maior preocupação com a saúde, ou, até mesmo, falta do que fazer"
   ]
  },
  {
   "cell_type": "markdown",
   "metadata": {},
   "source": [
    "#### Buscando relação entre o Tempo Médio de Viagem e o Gênero"
   ]
  },
  {
   "cell_type": "code",
   "execution_count": 6,
   "metadata": {},
   "outputs": [],
   "source": [
    "def clustergen(x):\n",
    "    if x==0:\n",
    "      return \"Desconhecido\"\n",
    "    elif x==1:\n",
    "      return \"Masculino\"\n",
    "    else:\n",
    "      return \"Feminino\"\n",
    "\n",
    "data_with_filter_gen = data\n",
    "\n",
    "data_with_filter_gen['Gen Filtered']=data['Gender'].map(lambda x:clustergen(x))"
   ]
  },
  {
   "cell_type": "code",
   "execution_count": 7,
   "metadata": {},
   "outputs": [
    {
     "name": "stdout",
     "output_type": "stream",
     "text": [
      "              Trip_Duration_in_min\n",
      "Gen Filtered                      \n",
      "Desconhecido             59.570324\n",
      "Feminino                 11.737864\n",
      "Masculino                11.689415\n"
     ]
    },
    {
     "data": {
      "text/plain": [
       "<AxesSubplot:xlabel='Gen Filtered'>"
      ]
     },
     "execution_count": 7,
     "metadata": {},
     "output_type": "execute_result"
    },
    {
     "data": {
      "image/png": "[encoded data removed]",
      "text/plain": [
       "<Figure size 432x288 with 1 Axes>"
      ]
     },
     "metadata": {
      "needs_background": "light"
     },
     "output_type": "display_data"
    }
   ],
   "source": [
    "min_gen=data_with_filter_gen[['Gen Filtered', 'Trip_Duration_in_min']].groupby('Gen Filtered').mean()\n",
    "print(min_gen)\n",
    "min_gen.plot(kind='bar')"
   ]
  },
  {
   "cell_type": "markdown",
   "metadata": {},
   "source": [
    "Duração média de viagem de Homens e Mulheres quase iguais, porém Desconhecido possui uma média muito alta (não consegui entender o porquê)"
   ]
  },
  {
   "cell_type": "markdown",
   "metadata": {},
   "source": [
    "#### Quantidade de Viagens por Idade"
   ]
  },
  {
   "cell_type": "code",
   "execution_count": 8,
   "metadata": {},
   "outputs": [
    {
     "name": "stdout",
     "output_type": "stream",
     "text": [
      "                Cont\n",
      "Age Filtered        \n",
      "0-20            1512\n",
      "21-30         156323\n",
      "31-40         364119\n",
      "41-50         133106\n",
      "51-60          58760\n",
      "61-70          20607\n",
      "71-80            818\n",
      "81-90            238\n",
      ">100              19\n"
     ]
    },
    {
     "data": {
      "text/plain": [
       "<AxesSubplot:xlabel='Age Filtered'>"
      ]
     },
     "execution_count": 8,
     "metadata": {},
     "output_type": "execute_result"
    },
    {
     "data": {
      "image/png": "[encoded data removed]",
      "text/plain": [
       "<Figure size 432x288 with 1 Axes>"
      ]
     },
     "metadata": {
      "needs_background": "light"
     },
     "output_type": "display_data"
    }
   ],
   "source": [
    "data_with_filter_age['Cont']=1\n",
    "\n",
    "cont_age=data_with_filter_age[['Age Filtered', 'Cont']].groupby('Age Filtered').sum()\n",
    "print(cont_age)\n",
    "cont_age.plot(kind='bar')"
   ]
  },
  {
   "cell_type": "markdown",
   "metadata": {},
   "source": [
    "Pessoas de 31-40 anos realizam mais viagens (seria legal ter um identificador de pessoa, para confirmar o intervalo de idade mais propenso a andar de bicicleta)"
   ]
  }
 ],
 "metadata": {
  "kernelspec": {
   "display_name": "Python 3",
   "language": "python",
   "name": "python3"
  },
  "language_info": {
   "codemirror_mode": {
    "name": "ipython",
    "version": 3
   },
   "file_extension": ".py",
   "mimetype": "text/x-python",
   "name": "python",
   "nbconvert_exporter": "python",
   "pygments_lexer": "ipython3",
   "version": "3.8.10"
  },
  "vscode": {
   "interpreter": {
    "hash": "7fcbe07157c1b3b8993a8bcf56b650e6a442ca8e2c193b390cc5479c8aec347c"
   }
  }
 },
 "nbformat": 4,
 "nbformat_minor": 4
}
