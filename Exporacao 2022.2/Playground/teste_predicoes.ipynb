{
 "cells": [
  {
   "cell_type": "markdown",
   "id": "e512c510-233b-4319-8e3a-a18a19043dd1",
   "metadata": {},
   "source": [
    "# Introdução"
   ]
  },
  {
   "cell_type": "markdown",
   "id": "eb58f276-85c0-4e9c-ba0f-22dade95b5db",
   "metadata": {},
   "source": [
    "**Nesse primeiro notebook, nosso propósito é fazer uma análise inicial dos dados do dataset de bicicletas compartilhadas de nova iorque e entender suas peculiaridades nos dados.**"
   ]
  },
  {
   "cell_type": "markdown",
   "id": "a75f97b7-9313-4ad9-875c-9c1c05f57bf5",
   "metadata": {},
   "source": [
    "Dados Completos da Fonte: https://s3.amazonaws.com/tripdata/index.html\n",
    "\n",
    "Acumulamos os dados no arquivo \"0. Download Dados\""
   ]
  },
  {
   "cell_type": "markdown",
   "id": "91e912ac-a307-448c-93a7-4b69e5b95f5b",
   "metadata": {},
   "source": [
    "## Próximos Passos"
   ]
  },
  {
   "cell_type": "markdown",
   "id": "0ccd52b3-ebfd-49e9-805b-e3c7b62baad5",
   "metadata": {},
   "source": [
    "**Análise de Dados:**\n",
    "* [x] Análise básica dos dados\n",
    "* [x] Limpeza dos dados\n",
    "* [ ] Visualização de Dados Geográficos\n",
    "    * [ ] Visualização dos pontos de saída e chegada\n",
    "* [ ] Calcular distância absoluta de cada estação a outra.\n",
    "* [ ] Analisar as estações mais populares\n",
    "* [ ] Analisar os horários de pico e distribuição dos horários geral e por estação\n",
    "* [ ] Analisar distribuição por dia, mês, ano da semana geral e por estação\n",
    "* [ ] Analise de sazonalidade\n",
    "* [ ] Relação do tempo da viagem com a idade e gênero da pessoa\n",
    "* [ ] Distribuição por estação de idade e gênero\n",
    "* [ ] Análise de corridas em grupo - mesmo inicio e fim? - pensar como avaliar isso\n",
    "\n",
    "**Modelos:**\n",
    "* [ ] Predizer para uma estação, em um dia da semana e horário, quantas corridas terá\n",
    "\n",
    "**Tempo Real:**\n",
    "* [ ] Obter dados em tempo real pela API\n",
    "* [ ] Aplicar o modelo de predição nos dados reais, predizer para próximas horas\n",
    "* [ ] Criar um dashboard em tempo real"
   ]
  },
  {
   "cell_type": "markdown",
   "id": "a6025ac0-d1d9-4c36-ab85-cda4370c5d75",
   "metadata": {},
   "source": [
    "# Importações"
   ]
  },
  {
   "cell_type": "code",
   "execution_count": null,
   "id": "1e19a02c-5c64-4d23-9a88-4ca69379ba18",
   "metadata": {},
   "outputs": [],
   "source": [
    "import pandas as pd\n",
    "import plotly.express as px"
   ]
  },
  {
   "cell_type": "code",
   "execution_count": null,
   "id": "08c68b52-492e-4a56-9498-cc6ae510ce1a",
   "metadata": {},
   "outputs": [],
   "source": [
    "from haversine import haversine"
   ]
  },
  {
   "cell_type": "code",
   "execution_count": null,
   "id": "9785ade0-7097-4ab4-9cb8-0143d718ada6",
   "metadata": {},
   "outputs": [],
   "source": [
    "px.set_mapbox_access_token(\"pk.eyJ1Ijoicm1jbnJpYmVpcm8iLCJhIjoiY2s4MHh5b3ZiMGtsbTNkcGFuazR1dWc4diJ9._aDTNPlmw3Nt6QSMm3YgmQ\")"
   ]
  },
  {
   "cell_type": "code",
   "execution_count": null,
   "id": "518f1a1a-0f0e-42fe-8aa1-ccc716ba5e04",
   "metadata": {},
   "outputs": [],
   "source": [
    "df_trips = pd.read_csv(\"../Dados/citibike2019_sample.csv\")"
   ]
  },
  {
   "cell_type": "markdown",
   "id": "8db3e2b3-6581-498e-8438-c8c002cc861a",
   "metadata": {},
   "source": [
    "# Análise Inicial"
   ]
  },
  {
   "cell_type": "markdown",
   "id": "47ac253c-6948-4c34-8b38-897222edc8d9",
   "metadata": {},
   "source": [
    "**Entendendo os tipos de dados e suas distribuições e comportamentos.**"
   ]
  },
  {
   "cell_type": "code",
   "execution_count": null,
   "id": "7303bc1c-078c-41ba-9b51-9a1ac9d89770",
   "metadata": {},
   "outputs": [],
   "source": [
    "df_trips.info()"
   ]
  },
  {
   "cell_type": "markdown",
   "id": "d645170e-a4b0-4192-97b9-fdf5e50a737b",
   "metadata": {},
   "source": [
    "**Verificando colunas com valores nulos.**\n",
    "\n",
    "Precisaremos dropar essas linhas porque os IDs são relevantes na nossa análise."
   ]
  },
  {
   "cell_type": "code",
   "execution_count": null,
   "id": "6ba3ef5f-cb67-435c-8f27-2c930170bded",
   "metadata": {},
   "outputs": [],
   "source": [
    "df_trips.isna().any()"
   ]
  },
  {
   "cell_type": "markdown",
   "id": "15ead7f6-510f-405b-abf4-404a11eb5411",
   "metadata": {},
   "source": [
    "**Mapeamento de Colunas para padronizar os nomes.**"
   ]
  },
  {
   "cell_type": "code",
   "execution_count": null,
   "id": "436fa123-6490-4972-a3a6-69dcebc8547d",
   "metadata": {},
   "outputs": [],
   "source": [
    "df_trips = df_trips.rename(\n",
    "    columns={\n",
    "        'starttime': \"Start Time\", \n",
    "        'stoptime': \"Stop Time\", \n",
    "        'start station id': \"Start Station ID\", \n",
    "        'start station name': \"Start Station Name\",\n",
    "        'start station latitude': \"Start Station Latitude\", \n",
    "        'start station longitude': \"Start Station Longitude\", \n",
    "        'end station id': \"End Station ID\",\n",
    "        'end station name': \"End Station Name\", \n",
    "        'end station latitude': \"End Station Latitude\", \n",
    "        'end station longitude': \"End Station Longitude\",\n",
    "        'bikeid': \"Bike ID\", \n",
    "        'usertype': \"User Type\", \n",
    "        'birth year': \"Birth Year\", \n",
    "        'gender': \"Gender\",\n",
    "        'tripduration': \"Trip Duration\"\n",
    "    }\n",
    ")"
   ]
  },
  {
   "cell_type": "code",
   "execution_count": null,
   "id": "0c6d9419-1db2-498a-a767-2b0e802e0ce8",
   "metadata": {},
   "outputs": [],
   "source": [
    "df_trips.columns"
   ]
  },
  {
   "cell_type": "code",
   "execution_count": null,
   "id": "fcd4802a-05d7-4a08-99ee-a8a6f7ee2596",
   "metadata": {},
   "outputs": [],
   "source": [
    "df_trips[\"Start Time\"] = pd.to_datetime(df_trips[\"Start Time\"])\n",
    "df_trips[\"Stop Time\"] = pd.to_datetime(df_trips[\"Stop Time\"])"
   ]
  },
  {
   "cell_type": "code",
   "execution_count": null,
   "id": "24510a19-9a63-4b2c-a549-389485dae3f7",
   "metadata": {},
   "outputs": [],
   "source": [
    "# Adicionando Coluna de Tempo Total em Minutos\n",
    "df_trips[\"Trip Duration Minutes\"] = df_trips[\"Trip Duration\"]/60.0"
   ]
  },
  {
   "cell_type": "code",
   "execution_count": null,
   "id": "233917ee-f3c1-46ba-b936-4df724f03616",
   "metadata": {},
   "outputs": [],
   "source": [
    "df_trips.describe()"
   ]
  },
  {
   "cell_type": "markdown",
   "id": "92523b57-e968-4829-9634-9a82456022db",
   "metadata": {},
   "source": [
    "**Observações de Dados:**\n",
    "\n",
    "* Máximo de Trip duration muito alta\n",
    "* Longitude possui valores zerados, indicando trips não finalizadas. Provavelmente vamos dropar.\n",
    "* Birth Year mínimo de 1857 - precisamos ver a veracidade dessa coluna\n",
    "* Gender 0, 1, 2 - precisamos verificar os significados\n",
    "* Trip Duration Minutes com máximo muito alto\n",
    "* Dados nulos de ID e Name"
   ]
  },
  {
   "cell_type": "markdown",
   "id": "4aabe618-29b6-4a3b-bccb-ddf4fae0026a",
   "metadata": {},
   "source": [
    "## Tratando Dados Nulos"
   ]
  },
  {
   "cell_type": "code",
   "execution_count": null,
   "id": "97d1c810-a70e-4f2f-842f-72b81c3f969c",
   "metadata": {},
   "outputs": [],
   "source": [
    "df_trips = df_trips.dropna()"
   ]
  },
  {
   "cell_type": "code",
   "execution_count": null,
   "id": "eb002125-2368-4735-9dc2-c90fb4527d2e",
   "metadata": {},
   "outputs": [],
   "source": [
    "df_trips.info()"
   ]
  },
  {
   "cell_type": "code",
   "execution_count": null,
   "id": "befad739-93bb-4fc8-b6b3-d75da7a66e0e",
   "metadata": {},
   "outputs": [],
   "source": [
    "df_trips.loc[:, \"Start Station ID\"] = df_trips.loc[:, \"Start Station ID\"].astype(int).values\n",
    "df_trips.loc[:, \"End Station ID\"] = df_trips.loc[:, \"End Station ID\"].astype(int).values"
   ]
  },
  {
   "cell_type": "code",
   "execution_count": null,
   "id": "c31d096b-d57e-4452-87a5-b2efd0eafc5c",
   "metadata": {},
   "outputs": [],
   "source": [
    "df_trips.head()"
   ]
  },
  {
   "cell_type": "markdown",
   "id": "74a27f9c-206b-4c8b-b922-bef622147966",
   "metadata": {},
   "source": [
    "## Análise de Trip Duration - Semelhante a Trip_Duration_in_min"
   ]
  },
  {
   "cell_type": "code",
   "execution_count": null,
   "id": "1898301a-69d9-4b94-bccd-44e01367c31f",
   "metadata": {},
   "outputs": [],
   "source": [
    "trip_durations = df_trips[\"Trip Duration Minutes\"]"
   ]
  },
  {
   "cell_type": "code",
   "execution_count": null,
   "id": "57e2f517-d0ed-4d22-9a07-8070d8cd349d",
   "metadata": {},
   "outputs": [],
   "source": [
    "trip_durations[trip_durations < 100].plot.hist(bins=30)"
   ]
  },
  {
   "cell_type": "markdown",
   "id": "79d8f2d0-6b35-4aee-805d-41a7d0b8bbfb",
   "metadata": {},
   "source": [
    "## Análise de Birth Year"
   ]
  },
  {
   "cell_type": "code",
   "execution_count": null,
   "id": "ef38807e-bdcf-4948-82ab-d58935292eeb",
   "metadata": {},
   "outputs": [],
   "source": [
    "birth_years = df_trips[\"Birth Year\"]"
   ]
  },
  {
   "cell_type": "code",
   "execution_count": null,
   "id": "cc26886e-0445-4f02-9e2d-9f37ea06e681",
   "metadata": {},
   "outputs": [],
   "source": [
    "birth_years.plot.hist(bins=30)"
   ]
  },
  {
   "cell_type": "markdown",
   "id": "303d5b07-af2c-4094-93e8-8229d1bb4fb1",
   "metadata": {},
   "source": [
    "Criação de Nova Coluna de Idade:"
   ]
  },
  {
   "cell_type": "code",
   "execution_count": null,
   "id": "1e644950-eeef-43af-a43e-a3890f46825e",
   "metadata": {},
   "outputs": [],
   "source": [
    "data_captura = 2019\n",
    "df_trips[\"Age\"] = data_captura - df_trips[\"Birth Year\"]"
   ]
  },
  {
   "cell_type": "code",
   "execution_count": null,
   "id": "cd909677-bfb0-4f21-b97a-97caea21df22",
   "metadata": {},
   "outputs": [],
   "source": [
    "df_trips[\"Age\"].plot.hist()"
   ]
  },
  {
   "cell_type": "code",
   "execution_count": null,
   "id": "36c84068-c87a-4927-a839-686c0c286ee1",
   "metadata": {},
   "outputs": [],
   "source": [
    "df_trips[\"Age\"].plot.box()"
   ]
  },
  {
   "cell_type": "markdown",
   "id": "adb818d1-045b-43ad-af0a-22d07d29d150",
   "metadata": {},
   "source": [
    "## Unicidade de (latitude, longitude) para cada uma das Stops"
   ]
  },
  {
   "cell_type": "markdown",
   "id": "2047a3ec-8113-4394-8b8d-5861bc876a68",
   "metadata": {},
   "source": [
    "Será que os dados de latitude e longitude das stops é consistente ou aparecem múltiplos (lat, long) para um mesmo stop?"
   ]
  },
  {
   "cell_type": "code",
   "execution_count": null,
   "id": "22c9d4ec-ee7a-4936-ae05-816752a6f38a",
   "metadata": {},
   "outputs": [],
   "source": [
    "# Obtendo as colunas relacionadas a start stops\n",
    "start_stations = df_trips[['Start Station ID', 'Start Station Latitude', 'Start Station Longitude', 'Start Station Name']]\n",
    "start_stations.columns = ['Station ID', 'Station Latitude', 'Station Longitude', 'Station Name']"
   ]
  },
  {
   "cell_type": "code",
   "execution_count": null,
   "id": "7149a947-a450-48d1-82e6-429d743ce14e",
   "metadata": {},
   "outputs": [],
   "source": [
    "# Obtendo as colunas relacionadas a end stops\n",
    "end_stations = df_trips[['End Station ID', 'End Station Latitude', 'End Station Longitude', 'End Station Name']]\n",
    "end_stations.columns = ['Station ID', 'Station Latitude', 'Station Longitude', 'Station Name']"
   ]
  },
  {
   "cell_type": "code",
   "execution_count": null,
   "id": "a3931870-f81f-48df-a706-d807121443c5",
   "metadata": {},
   "outputs": [],
   "source": [
    "# Uniao das stops, ja que ser de inicio ou fim nao importa\n",
    "stations = pd.concat([start_stations, end_stations], axis=0, ignore_index=True)"
   ]
  },
  {
   "cell_type": "code",
   "execution_count": null,
   "id": "33335bf4-e285-41fd-8a10-4771725dac46",
   "metadata": {},
   "outputs": [],
   "source": [
    "stations.head()"
   ]
  },
  {
   "cell_type": "code",
   "execution_count": null,
   "id": "94e8b408-592e-44cd-b7c0-1856dfa8576f",
   "metadata": {},
   "outputs": [],
   "source": [
    "# Verificando se todos os grupos de Station ID possuem apenas 1 linha após dropar duplicatas\n",
    "(stations.drop_duplicates().groupby(\"Station ID\").size() == 1).all()"
   ]
  },
  {
   "cell_type": "code",
   "execution_count": null,
   "id": "ca7f7e05-5b2a-4ac1-94d7-4efb2735de85",
   "metadata": {},
   "outputs": [],
   "source": [
    "stations.drop_duplicates().groupby(\"Station ID\").size().sort_values()"
   ]
  },
  {
   "cell_type": "markdown",
   "id": "739e6ab9-8e6c-4bf7-bbab-9814f38aac25",
   "metadata": {},
   "source": [
    "### Definindo um Dataframe mapeador das stations"
   ]
  },
  {
   "cell_type": "markdown",
   "id": "ce0eaf5c-0b83-4487-a016-6269da9f992c",
   "metadata": {},
   "source": [
    "Pode ser útil mais tarde termos um mapeador da station id para a lat, long"
   ]
  },
  {
   "cell_type": "code",
   "execution_count": null,
   "id": "1e4333e0-a798-466f-b139-f18494a730bd",
   "metadata": {},
   "outputs": [],
   "source": [
    "df_stations = stations.drop_duplicates().set_index('Station ID')"
   ]
  },
  {
   "cell_type": "code",
   "execution_count": null,
   "id": "764cd0fb-dcbf-463f-946d-7ab97ae24f20",
   "metadata": {},
   "outputs": [],
   "source": [
    "df_stations.head()"
   ]
  },
  {
   "cell_type": "markdown",
   "id": "e90b5294-3a40-496d-92df-c3ae81f40c5e",
   "metadata": {
    "tags": []
   },
   "source": [
    "# Limpeza de Dados"
   ]
  },
  {
   "cell_type": "markdown",
   "id": "00a65daa-7e3b-4bd8-90cc-59ae8b7b9977",
   "metadata": {},
   "source": [
    "**Observações de Dados:**\n",
    "\n",
    "* Máximo de Trip duration muito alta\n",
    "* Longitude possui valores zerados, indicando trips não finalizadas. Provavelmente vamos dropar.\n",
    "* Birth Year mínimo de 1900 - precisamos ver a veracidade dessa coluna\n",
    "* Gender 0, 1, 2 - precisamos verificar os significados\n",
    "* Trip_Duration_in_min com máximo muito alto\n",
    "* Nenhum dado nulo no dataset"
   ]
  },
  {
   "cell_type": "code",
   "execution_count": null,
   "id": "c1ec25ea-e51c-4c46-8cd9-e2c26d70c9ea",
   "metadata": {},
   "outputs": [],
   "source": [
    "df_trips_filtrado = df_trips"
   ]
  },
  {
   "cell_type": "markdown",
   "id": "ddbb326c-0866-4075-a944-b948bdec650b",
   "metadata": {},
   "source": [
    "## Trip Duration"
   ]
  },
  {
   "cell_type": "code",
   "execution_count": null,
   "id": "748984bc-59f1-4269-a86a-96ef74338cc8",
   "metadata": {},
   "outputs": [],
   "source": [
    "trip_duration = df_trips_filtrado[\"Trip Duration\"]"
   ]
  },
  {
   "cell_type": "code",
   "execution_count": null,
   "id": "fabba9ee-cefa-4b7a-a6e0-43f0a6933f71",
   "metadata": {},
   "outputs": [],
   "source": [
    "Q1 = trip_duration.quantile(0.25)\n",
    "Q3 = trip_duration.quantile(0.75)\n",
    "IQR = Q3 - Q1"
   ]
  },
  {
   "cell_type": "code",
   "execution_count": null,
   "id": "72ba7649-281e-4081-a517-fc10478b4589",
   "metadata": {},
   "outputs": [],
   "source": [
    "duration_filter = ~((trip_duration < (Q1 - 1.5 * IQR)) |(trip_duration > (Q3 + 1.5 * IQR)))\n",
    "df_trips_filtrado = df_trips[duration_filter]"
   ]
  },
  {
   "cell_type": "code",
   "execution_count": null,
   "id": "a4e3e038-26d7-4cae-b5cb-1c806de15191",
   "metadata": {},
   "outputs": [],
   "source": [
    "df_trips_filtrado"
   ]
  },
  {
   "cell_type": "markdown",
   "id": "1ff9a27a-eec1-43e3-a607-8daba84ce2aa",
   "metadata": {},
   "source": [
    "## Latitude e Longitude Zerados"
   ]
  },
  {
   "cell_type": "markdown",
   "id": "b2aa5426-87eb-47e3-8485-0c8eef2662e5",
   "metadata": {},
   "source": [
    "A filtragem anterior resolveu o problema."
   ]
  },
  {
   "cell_type": "code",
   "execution_count": null,
   "id": "f860ed40-8ba3-4831-825c-bfaebbf9f5b4",
   "metadata": {},
   "outputs": [],
   "source": [
    "df_trips_filtrado.describe()"
   ]
  },
  {
   "cell_type": "markdown",
   "id": "ba317e0d-a57e-4c43-aff4-8f13bca7e5aa",
   "metadata": {},
   "source": [
    "# Análise das Distâncias 'Percorridas'"
   ]
  },
  {
   "cell_type": "code",
   "execution_count": null,
   "id": "d1dc3798-601d-4c21-81e8-d80fab2f62c1",
   "metadata": {},
   "outputs": [],
   "source": [
    "df_trips[\"Distâncias\"] = df_trips.apply(lambda linha:haversine((linha['Start Station Latitude'] , linha['Start Station Longitude']), (linha['End Station Latitude'], linha['End Station Longitude'])),axis=1)"
   ]
  },
  {
   "cell_type": "markdown",
   "id": "fab9d481-8145-4ad6-b28f-7757201bf4e8",
   "metadata": {},
   "source": [
    "# Análise das Estações Populares"
   ]
  },
  {
   "cell_type": "code",
   "execution_count": null,
   "id": "49d55f06-7a78-4f2a-a9f7-0caeee8a47d7",
   "metadata": {},
   "outputs": [],
   "source": [
    "popularidade_start_stations = df_trips_filtrado['Start Station ID'].value_counts().rename(\"Start Station Count\")"
   ]
  },
  {
   "cell_type": "code",
   "execution_count": null,
   "id": "6474eec6-2d41-445e-be14-fabbec415a1b",
   "metadata": {},
   "outputs": [],
   "source": [
    "popularidade_start_stations.head()"
   ]
  },
  {
   "cell_type": "code",
   "execution_count": null,
   "id": "2098774b-37d4-4ec5-8e14-4e41ad646c82",
   "metadata": {},
   "outputs": [],
   "source": [
    "df_stations.head()"
   ]
  },
  {
   "cell_type": "code",
   "execution_count": null,
   "id": "e621b7bd-4725-4366-90fa-a42455216304",
   "metadata": {},
   "outputs": [],
   "source": [
    "df_start_station_count = df_stations.merge(popularidade_start_stations, right_index=True, left_index=True).sort_values(\"Start Station Count\", ascending=False)"
   ]
  },
  {
   "cell_type": "code",
   "execution_count": null,
   "id": "b6d37aca-54c5-4333-93f2-484581060d72",
   "metadata": {},
   "outputs": [],
   "source": [
    "df_start_station_count.head()"
   ]
  },
  {
   "cell_type": "code",
   "execution_count": null,
   "id": "9f5e4e94-f4ae-4e30-a376-b0a83428be24",
   "metadata": {},
   "outputs": [],
   "source": [
    "fig = px.scatter_mapbox(\n",
    "    df_start_station_count, lat=\"Station Latitude\", lon=\"Station Longitude\", size=\"Start Station Count\",\n",
    "                  color_continuous_scale=px.colors.cyclical.IceFire, size_max=15, zoom=10)\n",
    "fig.show()"
   ]
  },
  {
   "cell_type": "code",
   "execution_count": null,
   "id": "fb396afe-6c02-4b8e-a0b6-2e461bb3c02b",
   "metadata": {},
   "outputs": [],
   "source": [
    "popularidade_end_stations = df_trips_filtrado['End Station ID'].value_counts().rename(\"End Station Count\")"
   ]
  },
  {
   "cell_type": "code",
   "execution_count": null,
   "id": "bc39b537-bbe2-4c3b-ad91-c7ee81fad1ff",
   "metadata": {},
   "outputs": [],
   "source": [
    "popularidade_end_stations.head()"
   ]
  },
  {
   "cell_type": "code",
   "execution_count": null,
   "id": "301af2da-423b-4887-9bc8-e188651b225b",
   "metadata": {},
   "outputs": [],
   "source": [
    "df_stations.head()"
   ]
  },
  {
   "cell_type": "code",
   "execution_count": null,
   "id": "0d1aa6f6-aeb6-4b61-881c-cc2e2162481b",
   "metadata": {},
   "outputs": [],
   "source": [
    "df_end_station_count = df_stations.merge(popularidade_end_stations, right_index=True, left_index=True).sort_values(\"End Station Count\", ascending=False)"
   ]
  },
  {
   "cell_type": "code",
   "execution_count": null,
   "id": "847008a0-784c-40e3-a354-15ee66b72db9",
   "metadata": {},
   "outputs": [],
   "source": [
    "df_end_station_count.head()"
   ]
  },
  {
   "cell_type": "code",
   "execution_count": null,
   "id": "a4f634e4-cdbf-46e0-a017-61b210fe7440",
   "metadata": {},
   "outputs": [],
   "source": [
    "fig = px.scatter_mapbox(\n",
    "    df_end_station_count, lat=\"Station Latitude\", lon=\"Station Longitude\", size=\"End Station Count\",\n",
    "                  color_continuous_scale=px.colors.cyclical.IceFire, size_max=15, zoom=10)\n",
    "fig.show()"
   ]
  },
  {
   "cell_type": "code",
   "execution_count": null,
   "id": "9825a584-dba6-4053-a04c-72006db2f3ce",
   "metadata": {},
   "outputs": [],
   "source": [
    "df = df_trips\n",
    "df[\"Day of Week\"] = df[\"Start Time\"].dt.dayofweek\n",
    "df[\"Hour\"] = df[\"Start Time\"].dt.hour\n",
    "df[\"Date\"] = df[\"Start Time\"].dt.date"
   ]
  },
  {
   "cell_type": "code",
   "execution_count": null,
   "id": "9c58931a-d25a-48ed-bdb1-5e2f3e6a53d5",
   "metadata": {},
   "outputs": [],
   "source": [
    "df"
   ]
  },
  {
   "cell_type": "code",
   "execution_count": null,
   "id": "fd8e7c08-8c9d-4367-a923-9c86a49b63ff",
   "metadata": {},
   "outputs": [],
   "source": [
    "total_trips_by_day = df.set_index(\"Start Time\").resample('H').size().rename(\"Total Trips\")"
   ]
  },
  {
   "cell_type": "code",
   "execution_count": null,
   "id": "351e47a1-61aa-47af-b5a0-447a3ae97e0b",
   "metadata": {},
   "outputs": [],
   "source": [
    "total_trips_by_day"
   ]
  },
  {
   "cell_type": "code",
   "execution_count": null,
   "id": "4eec0de7-74bf-492d-8f3b-89756d887394",
   "metadata": {},
   "outputs": [],
   "source": [
    "px.line(total_trips_by_day)"
   ]
  },
  {
   "cell_type": "code",
   "execution_count": null,
   "id": "8a090d98-aca3-4faf-9e15-a8d3149ef635",
   "metadata": {},
   "outputs": [],
   "source": [
    "df_total_trips_by_day = pd.DataFrame(total_trips_by_day).reset_index()\n",
    "df_total_trips_by_day[\"Day of Week\"] = df_total_trips_by_day[\"Start Time\"].dt.dayofweek\n",
    "df_total_trips_by_day[\"Hour\"] = df_total_trips_by_day[\"Start Time\"].dt.hour"
   ]
  },
  {
   "cell_type": "code",
   "execution_count": null,
   "id": "de2de2a5-a777-433e-b2ba-7b457f02cf63",
   "metadata": {},
   "outputs": [],
   "source": [
    "df_total_trips_by_day"
   ]
  },
  {
   "cell_type": "code",
   "execution_count": null,
   "id": "1e994d44-30f4-4353-a675-fd9d397603f0",
   "metadata": {},
   "outputs": [],
   "source": [
    "df_total_trips_by_day_train = df_total_trips_by_day.iloc[:int(3/4 * len(df_total_trips_by_day))]\n",
    "df_total_trips_by_day_test = df_total_trips_by_day.iloc[int(3/4 * len(df_total_trips_by_day)):]"
   ]
  },
  {
   "cell_type": "code",
   "execution_count": null,
   "id": "611bd617-47ad-4983-924d-c79415d5c45e",
   "metadata": {},
   "outputs": [],
   "source": [
    "len(df_total_trips_by_day_train)"
   ]
  },
  {
   "cell_type": "code",
   "execution_count": null,
   "id": "e459739d-c473-4634-a487-4a1907856d2f",
   "metadata": {},
   "outputs": [],
   "source": [
    "len(df_total_trips_by_day_test)"
   ]
  },
  {
   "cell_type": "code",
   "execution_count": null,
   "id": "0a01bd9c-a15a-455f-855d-0336ca867a6c",
   "metadata": {},
   "outputs": [],
   "source": [
    "modelo = df_total_trips_by_day_train.groupby([\"Day of Week\", \"Hour\"]).median().reset_index().rename(columns={\"Total Trips\": \"Predicao\"})\n",
    "modelo"
   ]
  },
  {
   "cell_type": "code",
   "execution_count": null,
   "id": "937e201e-af68-4691-afea-c713bd88fa2e",
   "metadata": {},
   "outputs": [],
   "source": [
    "px.line(df_total_trips_by_day_test.merge(modelo, how=\"left\").set_index(\"Start Time\")[[\"Total Trips\", \"Predicao\"]])"
   ]
  },
  {
   "cell_type": "code",
   "execution_count": null,
   "id": "b0fcf7c7-7cda-4f6c-a3b2-1c5a35bf042e",
   "metadata": {},
   "outputs": [],
   "source": []
  },
  {
   "cell_type": "code",
   "execution_count": null,
   "id": "fc98908b-59e4-4933-bdfa-e7ff3d77eeac",
   "metadata": {},
   "outputs": [],
   "source": []
  }
 ],
 "metadata": {
  "kernelspec": {
   "display_name": "Python 3",
   "language": "python",
   "name": "python3"
  },
  "language_info": {
   "codemirror_mode": {
    "name": "ipython",
    "version": 3
   },
   "file_extension": ".py",
   "mimetype": "text/x-python",
   "name": "python",
   "nbconvert_exporter": "python",
   "pygments_lexer": "ipython3",
   "version": "3.8.10"
  }
 },
 "nbformat": 4,
 "nbformat_minor": 5
}
